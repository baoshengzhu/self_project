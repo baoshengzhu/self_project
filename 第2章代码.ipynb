{
 "cells": [
  {
   "cell_type": "code",
   "execution_count": 8,
   "metadata": {
    "collapsed": true
   },
   "outputs": [],
   "source": [
    "def countOnes(x):\n",
    "    count = 0\n",
    "    while x > 0:\n",
    "        count += 1\n",
    "        x &= (x-1)\n",
    "    return count"
   ]
  },
  {
   "cell_type": "code",
   "execution_count": 9,
   "metadata": {},
   "outputs": [
    {
     "name": "stdout",
     "output_type": "stream",
     "text": [
      "binary form of 1234 is 0b10011010010\n",
      "binary form of 1234 contains 5 1s\n"
     ]
    }
   ],
   "source": [
    "c = countOnes(1234)\n",
    "print(\"binary form of 1234 is {0}\".format(bin(1234)))\n",
    "print(\"binary form of 1234 contains {0} 1s\".format(c))"
   ]
  },
  {
   "cell_type": "code",
   "execution_count": 10,
   "metadata": {
    "collapsed": true
   },
   "outputs": [],
   "source": [
    "'''\n",
    "折半查找，在一个升序排列的数组中查找指定元素，先找出数组中间元素，如果等于要找元素，那么直接返回，如果小于\n",
    "指定元素，那么在数组前半部进行查找，如果大于指定元素，在数组的后半部查找\n",
    "'''\n",
    "def binaryFind(A, m):\n",
    "    if len(A) == 0:\n",
    "        return -1\n",
    "    \n",
    "    i = int(len(A) / 2)\n",
    "    if A[i] == m:\n",
    "        return i\n",
    "    if A[i] > m and i - 1 >= 0:\n",
    "        return binaryFind(A[0: i - 1], m)\n",
    "    if A[i] < m and i + 1 < len(A):\n",
    "        return binaryFind(A[i: len(A)], m)\n",
    "    \n",
    "    return -1"
   ]
  },
  {
   "cell_type": "code",
   "execution_count": 11,
   "metadata": {},
   "outputs": [
    {
     "name": "stdout",
     "output_type": "stream",
     "text": [
      "存在i和j使得A[i] + A[j] = 9\n"
     ]
    }
   ],
   "source": [
    "A = [3, 1, 5, 6, 7, 4, 2, 8]\n",
    "#把A升序排列\n",
    "A.sort()\n",
    "M = 9\n",
    "success = False\n",
    "for i in range(len(A)):\n",
    "    m = M - A[i]\n",
    "    j = binaryFind(A, m)\n",
    "    if j != -1 and j != i:\n",
    "        print(\"存在i和j使得A[i] + A[j] = {0}\".format(M))\n",
    "        success = True\n",
    "        break\n",
    "if success != True:\n",
    "    print(\"不存在i,j，使得A[i] + A[j] = {0}\".format(M))"
   ]
  },
  {
   "cell_type": "code",
   "execution_count": 12,
   "metadata": {
    "collapsed": true
   },
   "outputs": [],
   "source": [
    "def mergeSort(A):\n",
    "    if len(A) <= 1:\n",
    "        return A\n",
    "    \n",
    "    #把数组分成两部分分别排序\n",
    "    half = int(len(A) / 2)\n",
    "    first = mergeSort(A[0:half])\n",
    "    second = mergeSort(A[half:len(A)])\n",
    "    #把两部分合并\n",
    "    i= 0\n",
    "    j = 0\n",
    "    newA = []\n",
    "    while i < len(first) or j < len(second):\n",
    "        #合并时，把两个数组中较小的一个插入新数组\n",
    "        if i < len(first) and j < len(second):\n",
    "            if first[i] <= second[j]:\n",
    "                newA.append(first[i])\n",
    "                i += 1\n",
    "            else:\n",
    "                newA.append( second[j])\n",
    "                j += 1\n",
    "        else:\n",
    "            #如果后半部数组已经全部插入，那么把前半部剩余元素插入新数组\n",
    "            if i < len(first):\n",
    "                newA.append(first[i])\n",
    "                i += 1\n",
    "            #如果前半部数组已经全部插入，那么把后半部剩余元素插入新数组\n",
    "            if j < len(second):\n",
    "                newA.append(second[j])\n",
    "                j += 1\n",
    "    return newA"
   ]
  },
  {
   "cell_type": "code",
   "execution_count": 13,
   "metadata": {},
   "outputs": [
    {
     "name": "stdout",
     "output_type": "stream",
     "text": [
      "[1, 2, 3, 4, 5, 6, 7, 8]\n"
     ]
    }
   ],
   "source": [
    "A = [3, 1, 5, 6, 7, 4, 2, 8]\n",
    "A = mergeSort(A)\n",
    "print(A)"
   ]
  },
  {
   "cell_type": "code",
   "execution_count": 14,
   "metadata": {
    "collapsed": true
   },
   "outputs": [],
   "source": [
    "def swap(array, i, j):\n",
    "    temp = array[i]\n",
    "    array[i] = array[j]\n",
    "    array[j] = temp\n",
    "    "
   ]
  },
  {
   "cell_type": "code",
   "execution_count": 20,
   "metadata": {},
   "outputs": [
    {
     "name": "stdout",
     "output_type": "stream",
     "text": [
      "[1, 4, 3, 6, 2, 7, 5, 10, 9]\n"
     ]
    }
   ],
   "source": [
    "array = [1,3,4,5,6,2,7,9,10]\n",
    "for i in range(len(array) - 1):\n",
    "    if (i % 2 == 0 and array[i] > array[i+1]) or (i % 2 == 1 and array[i] < array[i+1]):\n",
    "        swap(array, i, i+1)\n",
    "print(array)"
   ]
  },
  {
   "cell_type": "code",
   "execution_count": null,
   "metadata": {
    "collapsed": true
   },
   "outputs": [],
   "source": []
  }
 ],
 "metadata": {
  "kernelspec": {
   "display_name": "Python 3",
   "language": "python",
   "name": "python3"
  },
  "language_info": {
   "codemirror_mode": {
    "name": "ipython",
    "version": 3
   },
   "file_extension": ".py",
   "mimetype": "text/x-python",
   "name": "python",
   "nbconvert_exporter": "python",
   "pygments_lexer": "ipython3",
   "version": "3.6.3"
  }
 },
 "nbformat": 4,
 "nbformat_minor": 2
}
