{
 "cells": [
  {
   "cell_type": "code",
   "execution_count": 2,
   "metadata": {},
   "outputs": [],
   "source": [
    "import sys \n",
    "\n",
    "class BestCut:\n",
    "    def __init__(self, length, price, cuts):\n",
    "        '''\n",
    "        记录给定长度的最优切割方案，length对应长度，price对应最优价格，cuts对应切割方式\n",
    "        如果一个8单位长的钢管最优切割方案是切成3单位和5单位，那么length=8,price=18,\n",
    "        cuts记录3单位钢管的BestCut对象和5单位钢管的BestCut对象\n",
    "                '''\n",
    "        self.rodLength = length \n",
    "        self.bestPrice = price\n",
    "        self.subBestCuts = cuts \n",
    "        \n",
    "    def printCut(self):\n",
    "        print(\"length: {0} , price: {1} \".format(self.rodLength, self.bestPrice))"
   ]
  },
  {
   "cell_type": "code",
   "execution_count": 4,
   "metadata": {},
   "outputs": [],
   "source": [
    "def recursiveCutRod(priceTable, length, bestCutMap):\n",
    "    if bestCutMap.get(length, None) is not None:\n",
    "        #当前给定长度的最优切割方案已经找到\n",
    "        return bestCutMap[length]\n",
    "    q = None \n",
    "    if length == 0:\n",
    "        q = BestCut(0, 0, None)\n",
    "    elif length == 1:\n",
    "        #单位长度不能继续往下切割\n",
    "        return BestCut(1, priceTable[1], None)\n",
    "    else:\n",
    "        currentPrice = -sys.maxsize\n",
    "        bestCut1 = None \n",
    "        bestCut2 = None\n",
    "        for i in range(1, length):\n",
    "            #把长度为length的钢管切割成i和length - i，然后递归的查找两部分的最优切割方案\n",
    "            cut1 = recursiveCutRod(priceTable, i, bestCutMap)\n",
    "            cut2 = recursiveCutRod(priceTable, length - i, bestCutMap)\n",
    "            if cut1.bestPrice + cut2.bestPrice > currentPrice:\n",
    "                currentPrice = cut1.bestPrice + cut2.bestPrice\n",
    "                bestCut1 = cut1\n",
    "                bestCut2 = cut2 \n",
    "        #如果长度在价格表内，看看整体出售是不是更好\n",
    "        if length < len(priceTable) and priceTable[length] > currentPrice:\n",
    "            bestCutMap[length] = BestCut(length, priceTable[length], None)\n",
    "            return bestCutMap[length]\n",
    "        \n",
    "        bestCutArray = [bestCut1, bestCut2]\n",
    "        bestCutMap[length] = BestCut(length, currentPrice, bestCutArray)\n",
    "        #积累\n",
    "        return bestCutMap[length]\n",
    "            \n",
    "        \n",
    "def cutRod(priceTable, length):\n",
    "    bestCutMap = {}\n",
    "    return recursiveCutRod(priceTable, length, bestCutMap)\n",
    "\n",
    "def getBestCuts(cut, cutList):\n",
    "    #找出切割的最优方案，当一个BestCut对象，其subBestCuts为空时，它本身就是最优切割方案中的一部分\n",
    "    if cut.subBestCuts is None:\n",
    "        cutList.append(cut)\n",
    "        return \n",
    "    #如果subBestCut不为空，递归的从两个子切割中查找最优切割\n",
    "    for subCut in cut.subBestCuts:\n",
    "        getBestCuts(subCut, cutList)"
   ]
  },
  {
   "cell_type": "code",
   "execution_count": 5,
   "metadata": {},
   "outputs": [
    {
     "name": "stdout",
     "output_type": "stream",
     "text": [
      "the best price for rod with length 15 is 43\n",
      "The best way to cut the rod with length of 15 are:\n",
      "length: 2 , price: 5 \n",
      "length: 3 , price: 8 \n",
      "length: 10 , price: 30 \n"
     ]
    }
   ],
   "source": [
    "priceTable = [0, 1, 5, 8, 9, 10, 17, 17, 20, 24, 30]\n",
    "length = 15\n",
    "cut = cutRod(priceTable, length)\n",
    "print(\"the best price for rod with length {0} is {1}\".format(length , cut.bestPrice))  \n",
    "\n",
    "cutList = []\n",
    "getBestCuts(cut, cutList) \n",
    "print(\"The best way to cut the rod with length of {0} are:\".format(length))\n",
    "for cut in cutList:\n",
    "    cut.printCut()"
   ]
  },
  {
   "cell_type": "code",
   "execution_count": 6,
   "metadata": {
    "collapsed": true
   },
   "outputs": [],
   "source": [
    "UP = 0\n",
    "LEFT = 1\n",
    "UP_LEFT = 2\n",
    "#数组C用于记录最大共同子串长度，C[i][j]记录长度为i的X序列和长度为j的Y序列的最大共同子串长度\n",
    "C = []\n",
    "#数组B用于记录相关信息，它会用于构造最大共同子串\n",
    "B = []"
   ]
  },
  {
   "cell_type": "code",
   "execution_count": 7,
   "metadata": {
    "collapsed": true
   },
   "outputs": [],
   "source": [
    "def getLongestCommonStringLength(X, Y):\n",
    "    m = len(X)\n",
    "    n = len(Y)\n",
    "    #这里加1是因为算法描述中字符的下标从1开始，而代码对字符的访问，下标从0开始\n",
    "    for i in range(0, m+1):\n",
    "        C.append([])\n",
    "        B.append([])\n",
    "        for j in range(0, n+1):\n",
    "            C[i].append(0)\n",
    "            B[i].append(UP)\n",
    "    for i in range (1, m+1):\n",
    "        for j in range(1, n+1):\n",
    "            #见1是因为字符下标从0开始\n",
    "            if X[i-1] == Y[j-1]:\n",
    "              #如果两字符串最后一个字符相同，那么最大共同子串就是X(i-1)与Y(j-1)的最大共同子串加上最后一个字符\n",
    "                C[i][j] = C[i-1][j-1] + 1\n",
    "                B[i][j] = UP_LEFT\n",
    "            elif C[i-1][j] >= C[i][j-1]:\n",
    "                #如果最后一个字符不同，那么最大共同子串就是X(i-1)与Y(j)的最大共同子串与X(i)和Y(j-1)的最大共同子串，两者长度最大那个\n",
    "                C[i][j] = C[i-1][j]\n",
    "                B[i][j] = UP \n",
    "            else:\n",
    "                C[i][j] = C[i][j-1]\n",
    "                B[i][j] = LEFT \n",
    "                \n",
    "#根据数组C和B获取X(i)和Y(j)的最大共同子串\n",
    "def  getLogestCommonString(X, Y, i, j):\n",
    "    if i == 0 or j == 0:\n",
    "        return \"\"\n",
    "    lcs = \"\"\n",
    "    if B[i][j] == UP_LEFT:\n",
    "        #这里表明字符X[i]和Y[j]相同，因此最大共同子串应该包含该字符\n",
    "        lcs = getLogestCommonString(X, Y, i-1, j-1)\n",
    "        #字符的下标从0开始，所以要减1\n",
    "        lcs += X[i-1]\n",
    "    elif B[i][j] == UP:\n",
    "        #这里表明X(i-1)和(j)的最大共同子串是X(i)和Y(j)的最大共同子串\n",
    "        lcs = getLogestCommonString(X, Y, i-1, j)\n",
    "    else:\n",
    "        #这里表明X(i)和Y(j-1)的最大共同子串是X(i)和Y(j)的最大共同子串\n",
    "        lcs = getLogestCommonString(X, Y, i, j-1)\n",
    "    return lcs "
   ]
  },
  {
   "cell_type": "code",
   "execution_count": 8,
   "metadata": {},
   "outputs": [
    {
     "name": "stdout",
     "output_type": "stream",
     "text": [
      "longest common string of X and Y is BCBA\n"
     ]
    }
   ],
   "source": [
    "X=\"ABCBDAB\"\n",
    "Y=\"BDCABA\"\n",
    "getLongestCommonStringLength(X, Y)\n",
    "lcs = getLogestCommonString(X, Y, len(X), len(Y))\n",
    "print(\"longest common string of X and Y is {0}\".format(lcs))"
   ]
  },
  {
   "cell_type": "code",
   "execution_count": 9,
   "metadata": {
    "collapsed": true
   },
   "outputs": [],
   "source": [
    "def  modifiedGetLongestCommonSubStringLength(X, Y):\n",
    "    m = len(X)\n",
    "    n = len(Y)\n",
    "    \n",
    "    '''\n",
    "    getLongestCommonStringLength在计算C[i][j]，的值时，只用到二维数组的上一行C[i-1][j-1]或C[i-1][j]的值，或者是\n",
    "    同一行C[i][j-1]的值，因此数组C其实不需要n*m那么大，只需要2*m那么大就可以了，当前函数的逻辑与getLongestCommonStringLength\n",
    "    一样，只不过把C的内存大小从n*m改为2*m\n",
    "    '''\n",
    "    C=[ [], []]\n",
    "    for j in range(n+1):\n",
    "        C[1].append(0)\n",
    "        \n",
    "    for i in range(1, m+1):\n",
    "        C[0] = []\n",
    "        #把第二行数据复制到第一行\n",
    "        for j in range(len(C[1])):\n",
    "            C[0].append(C[1][j])\n",
    "            \n",
    "        for j in range(1, n+1):\n",
    "            if X[i-1] == Y[j-1]:\n",
    "                C[1][j] = C[0][j-1] + 1\n",
    "            elif C[0][j] > C[1][j-1]:\n",
    "                C[1][j] = C[0][j]\n",
    "            else:\n",
    "                C[1][j] = C[1][j-1]\n",
    "                \n",
    "    return C[1]"
   ]
  },
  {
   "cell_type": "code",
   "execution_count": 10,
   "metadata": {},
   "outputs": [
    {
     "name": "stdout",
     "output_type": "stream",
     "text": [
      "for string ABCBDAB and BDCABA\n",
      "seperate Y by index  0\n",
      "The longest sub string is combined by the longest sub string of ABC and  and sub string of BDAB and BDCABA\n",
      "for string BDAB and BDCABA\n",
      "seperate Y by index  2\n",
      "The longest sub string is combined by the longest sub string of BD and BD and sub string of AB and CABA\n",
      "for string BD and BD\n",
      "seperate Y by index  1\n",
      "The longest sub string is combined by the longest sub string of B and B and sub string of D and D\n",
      "for string AB and CABA\n",
      "seperate Y by index  2\n",
      "The longest sub string is combined by the longest sub string of A and CA and sub string of B and BA\n",
      "The longest sub string of ABCBDAB and BDCABA is BDAB\n"
     ]
    }
   ],
   "source": [
    "def getLongestCommonSubStringWithLinearSpace(X,Y):\n",
    "    if len(Y) == 0:\n",
    "        return \"\"\n",
    "    if len(X) == 1:\n",
    "        for j in range(len(Y)):\n",
    "            if X[0] == Y[j]:\n",
    "                return X[0]\n",
    "        return \"\"\n",
    "    m = len(X)\n",
    "    n = len(Y)\n",
    "    i = int(m/2)\n",
    "    #找到j，使得L=max(C(i,j) + C*(i,j))\n",
    "    L1 = modifiedGetLongestCommonSubStringLength(X[0:i], Y)\n",
    "    X1 = X[::-1]\n",
    "    Y1 = Y[::-1]\n",
    "    L2 = modifiedGetLongestCommonSubStringLength(X1[0: m - i], Y1)\n",
    "    L = 0\n",
    "    k = 0\n",
    "    for j in range(0, n+1):\n",
    "        if L1[j] + L2[n-j] > L:\n",
    "            L = L1[j] + L2[n-j]\n",
    "            k = j \n",
    "    '''\n",
    "    找到满足条件的j后，我们再获取X(0,i)和Y(0,j)的最大共同子串S1,以及X(i+1, n) 和Y(j+1,n)的最大共同子串\n",
    "    两者合在一起S1+S2就是X和Y的最大共同子串\n",
    "    '''\n",
    "    print(\"for string {0} and {1}\".format(X, Y))\n",
    "    print(\"seperate Y by index \", k)\n",
    "    print(\"The longest sub string is combined by the longest sub string of {0} and {1} and sub string of {2} and {3}\".format(X[0:i], Y[0:k],X[i:m], Y[k:n]))\n",
    "    \n",
    "    S1 = getLongestCommonSubStringWithLinearSpace(X[0:i], Y[0:k])\n",
    "  \n",
    "    S2 = getLongestCommonSubStringWithLinearSpace(X[i:m], Y[k:n])\n",
    "  \n",
    "    return S1+S2 \n",
    "\n",
    "X=\"ABCBDAB\"\n",
    "Y=\"BDCABA\"\n",
    "\n",
    "L = getLongestCommonSubStringWithLinearSpace(X,Y)\n",
    "\n",
    "print(\"The longest sub string of {0} and {1} is {2}\".format(X,Y,L))\n"
   ]
  },
  {
   "cell_type": "code",
   "execution_count": null,
   "metadata": {
    "collapsed": true
   },
   "outputs": [],
   "source": []
  }
 ],
 "metadata": {
  "kernelspec": {
   "display_name": "Python 3",
   "language": "python",
   "name": "python3"
  },
  "language_info": {
   "codemirror_mode": {
    "name": "ipython",
    "version": 3
   },
   "file_extension": ".py",
   "mimetype": "text/x-python",
   "name": "python",
   "nbconvert_exporter": "python",
   "pygments_lexer": "ipython3",
   "version": "3.6.3"
  }
 },
 "nbformat": 4,
 "nbformat_minor": 2
}
