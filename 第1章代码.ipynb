{
 "cells": [
  {
   "cell_type": "code",
   "execution_count": 5,
   "metadata": {},
   "outputs": [
    {
     "name": "stdout",
     "output_type": "stream",
     "text": [
      "应该在第2天买入，第5天卖出，最大交易利润为：5\n"
     ]
    }
   ],
   "source": [
    "#S定义股票开盘价数组\n",
    "S = [10, 4, 8, 7, 9, 6, 2, 5, 3]\n",
    "maxProfit = 0\n",
    "buyDay = 0\n",
    "sellDay = 0\n",
    "\"\"\"\n",
    "遍历所有可能的买入和卖出组合，S数组中包含10天的股票开盘价，因此买入日期可以是第一天到第9天中\n",
    "的任何一天，而卖出日期可以是买入日期之后的任何一天\n",
    "\"\"\"\n",
    "for i in range(len(S) - 1):\n",
    "    for j in range(i+1, len(S)):\n",
    "        if S[j] - S[i] > maxProfit:\n",
    "            maxProfit = S[j] - S[i]\n",
    "            buyDay = i\n",
    "            sellDay = j\n",
    "            \n",
    "print(\"应该在第{0}天买入，第{1}天卖出，最大交易利润为：{2}\".format(buyDay+1, sellDay+1, maxProfit))"
   ]
  },
  {
   "cell_type": "code",
   "execution_count": 66,
   "metadata": {
    "collapsed": true
   },
   "outputs": [],
   "source": [
    "def findMaxProfit(S):\n",
    "    # 返回值格式(买入日期，卖出日期，最大利润)\n",
    "    if len(S) < 2:\n",
    "        return [0, 0, 0]\n",
    "    if len(S) == 2:\n",
    "        # 如果交易天数只有2天，那么只能第一天买入第二天卖出\n",
    "        if (S[1] > S[0]):\n",
    "            return [0, 1, S[1] - S[0]]\n",
    "        else:\n",
    "            return [0, 0, 0]\n",
    "    # 把交易数据分成两部分，分别找出前半部分和后半部分最大交易利润，然后选取两种结果的最大值\n",
    "    firstHalf = findMaxProfit(S[0:int(len(S) / 2)])\n",
    "    secondHalf = findMaxProfit(S[int(len(S) / 2):len(S)])\n",
    "    finalResult = firstHalf\n",
    "    \n",
    "    if (secondHalf[2] > firstHalf[2]):\n",
    "        # 第二部分的交易日期要加上第一部分的天数\n",
    "        secondHalf[0] += int(len(S) / 2)\n",
    "        secondHalf[1] += int(len(S) / 2)\n",
    "        finalResult = secondHalf\n",
    "\n",
    "    # 看最大交易方案是否是在前半部买入，后半部卖出\n",
    "    lowestPrice = S[0]\n",
    "    highestPrice = S[int(len(S) / 2)]\n",
    "    buyDay = 0\n",
    "    selDay = int(len(S) / 2)\n",
    "    for i in range(0, int(len(S) / 2)):\n",
    "        if (S[i] < lowestPrice):\n",
    "            buyDay = i\n",
    "            lowestPrice = S[i]\n",
    "    for i in range(int(len(S) / 2), len(S)):\n",
    "        if (S[i] > highestPrice):\n",
    "            selDay = i\n",
    "            highestPrice = S[i]\n",
    "\n",
    "    if (highestPrice - lowestPrice > finalResult[2]):\n",
    "        finalResult[0] = buyDay\n",
    "        finalResult[1] = selDay\n",
    "        finalResult[2] = highestPrice - lowestPrice\n",
    "\n",
    "    return finalResult"
   ]
  },
  {
   "cell_type": "code",
   "execution_count": 68,
   "metadata": {},
   "outputs": [
    {
     "name": "stdout",
     "output_type": "stream",
     "text": [
      "在第1天买入，第8天卖出，最大交易利润为9\n"
     ]
    }
   ],
   "source": [
    "S = [1, 2, 9, 4, 5, 6, 7 ,10]\n",
    "maxProfit = findMaxProfit(S)\n",
    "print(\"在第{0}天买入，第{1}天卖出，最大交易利润为{2}\".format(maxProfit[0]+1, maxProfit[1]+1, maxProfit[2]))"
   ]
  },
  {
   "cell_type": "code",
   "execution_count": 73,
   "metadata": {},
   "outputs": [
    {
     "name": "stdout",
     "output_type": "stream",
     "text": [
      "在第1天买入，在第8天卖出，最大交易利润为:9\n"
     ]
    }
   ],
   "source": [
    "S = [1, 2, 9, 4, 5, 6, 7 ,10]\n",
    "minPrice = S[0]\n",
    "N = 0\n",
    "profit = 0\n",
    "selDay = 0\n",
    "buyDay = 0\n",
    "\n",
    "for N in range(len(S)):\n",
    "    if (S[N] < minPrice):\n",
    "        minPrice = S[N]\n",
    "        buyDay = N\n",
    "        \n",
    "    if (S[N] - minPrice > profit):\n",
    "        profit = S[N] - minPrice\n",
    "        selDay = N\n",
    "        \n",
    "print(\"在第{0}天买入，在第{1}天卖出，最大交易利润为:{2}\".format(buyDay+1, selDay+1, profit))"
   ]
  },
  {
   "cell_type": "code",
   "execution_count": null,
   "metadata": {
    "collapsed": true
   },
   "outputs": [],
   "source": []
  }
 ],
 "metadata": {
  "kernelspec": {
   "display_name": "Python 3",
   "language": "python",
   "name": "python3"
  },
  "language_info": {
   "codemirror_mode": {
    "name": "ipython",
    "version": 3
   },
   "file_extension": ".py",
   "mimetype": "text/x-python",
   "name": "python",
   "nbconvert_exporter": "python",
   "pygments_lexer": "ipython3",
   "version": "3.6.3"
  }
 },
 "nbformat": 4,
 "nbformat_minor": 2
}
