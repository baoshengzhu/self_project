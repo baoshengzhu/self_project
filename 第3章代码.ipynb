{
 "cells": [
  {
   "cell_type": "code",
   "execution_count": 1,
   "metadata": {},
   "outputs": [
    {
     "name": "stdout",
     "output_type": "stream",
     "text": [
      "binary before swap,a:0b10011010010, b:0b1011000101110\n",
      "binary after swap,a:0b1011000101110, b:0b10011010010\n"
     ]
    }
   ],
   "source": [
    "a = 1234\n",
    "b = 5678\n",
    "print(\"binary before swap,a:{0}, b:{1}\".format(bin(a),bin(b)))\n",
    "#下面三句代码连续做三次亦或操作便可以互换两变量的值\n",
    "a = a ^ b\n",
    "b = a ^ b\n",
    "a = a ^ b\n",
    "print(\"binary after swap,a:{0}, b:{1}\".format(bin(a),bin(b)))"
   ]
  },
  {
   "cell_type": "code",
   "execution_count": 6,
   "metadata": {},
   "outputs": [],
   "source": [
    "def swapBit(x, i, j):\n",
    "    #如果第i位和第j位上的数值相同那就没必要进行操作S\n",
    "    if ((x>>i) & 1) != ((x>>j) & 1):\n",
    "        x ^= ((1<<i) | (1<<j))\n",
    "    return x"
   ]
  },
  {
   "cell_type": "code",
   "execution_count": 7,
   "metadata": {},
   "outputs": [
    {
     "name": "stdout",
     "output_type": "stream",
     "text": [
      "binary format of x before swap bit of 2 and 3 is 0b100100\n",
      "binary format of x after swap bit of 2 and 3 is 0b101000\n"
     ]
    }
   ],
   "source": [
    "x = 0b100100\n",
    "i = 2\n",
    "j = 3\n",
    "print(\"binary format of x before swap bit of {0} and {1} is {2}\".format(i,j,bin(x)))\n",
    "x = swapBit(x, i, j)\n",
    "print(\"binary format of x after swap bit of {0} and {1} is {2}\".format(i,j,bin(x)))"
   ]
  },
  {
   "cell_type": "code",
   "execution_count": 13,
   "metadata": {},
   "outputs": [],
   "source": [
    "def closestWithTheSameWeight(x):\n",
    "    #假设x是64位整形\n",
    "    for i in range(0,64):\n",
    "        #从低位向高位扫描，找到相邻但值不同的比特位\n",
    "        if ((x>>i)&1) ^ ((x>>(i+1))&1):\n",
    "            #交换两个相邻的比特位\n",
    "            x ^= (1<<i)|(1<<(i+1))\n",
    "            return x\n"
   ]
  },
  {
   "cell_type": "code",
   "execution_count": 14,
   "metadata": {},
   "outputs": [
    {
     "name": "stdout",
     "output_type": "stream",
     "text": [
      "integer closest to x with the same weight is 0b11101\n"
     ]
    }
   ],
   "source": [
    "x = 0b11011\n",
    "y = closestWithTheSameWeight(x)\n",
    "print(\"integer closest to x with the same weight is {0}\".format(bin(y)))"
   ]
  },
  {
   "cell_type": "code",
   "execution_count": 37,
   "metadata": {},
   "outputs": [],
   "source": [
    "def fixBinaryString(val, setlen):\n",
    "    '''\n",
    "    必须保持val的二进制长度与集合长度一致，例如如果集合有3个元素，val=2,那么它的二进制形式是0b11\n",
    "    函数在高位补足一个0，于是0b11转换为0b011，这样在打印集合元素时才能根据二进制位对应得上每一个元素\n",
    "    '''\n",
    "    binary = bin(val).replace('0b', '')\n",
    "    while len(binary) < setlen:\n",
    "        binary = \"0\" + binary\n",
    "    return binary\n",
    "\n",
    "def printSetByBinary(val, collection):\n",
    "    '''\n",
    "    根据整数二进制形式中比特位上的值是0还是1选择是否把对应元素打印到子集中\n",
    "    '''\n",
    "    #先把整形对应的二进制位数根据集合元素个数补全\n",
    "    binary = fixBinaryString(val, len(collection))\n",
    "    idx = 0\n",
    "    isNull = True\n",
    "    while idx < len(binary):\n",
    "        #如果对应比特位是1，那么就打印对应的集合元素\n",
    "        if binary[idx] == '1':\n",
    "            if isNull is False:\n",
    "                print(\",\",end='')\n",
    "            print(collection[idx], end='')\n",
    "            isNull = False\n",
    "        idx += 1\n",
    "    if isNull is True:\n",
    "        print(\"NULL\")\n",
    "    print(\";\")\n",
    "    \n",
    "def handleAllSubSet(set):\n",
    "    count = len(set)\n",
    "    val = 0\n",
    "    #根据集合中元素的个数构造相应位长的二进制数，并把所有对应的比特位都设置为1\n",
    "    for i in range(count):\n",
    "        val |= (1<<i)\n",
    "    while val >= 0:\n",
    "        printSetByBinary(val, set)\n",
    "        val-=1"
   ]
  },
  {
   "cell_type": "code",
   "execution_count": 38,
   "metadata": {},
   "outputs": [
    {
     "name": "stdout",
     "output_type": "stream",
     "text": [
      "A,B,C,D;\n",
      "A,B,C;\n",
      "A,B,D;\n",
      "A,B;\n",
      "A,C,D;\n",
      "A,C;\n",
      "A,D;\n",
      "A;\n",
      "B,C,D;\n",
      "B,C;\n",
      "B,D;\n",
      "B;\n",
      "C,D;\n",
      "C;\n",
      "D;\n",
      "NULL\n",
      ";\n"
     ]
    }
   ],
   "source": [
    "Set(collection)"
   ]
  },
  {
   "cell_type": "code",
   "execution_count": 39,
   "metadata": {
    "collapsed": true
   },
   "outputs": [],
   "source": [
    "def gcd(a, b):\n",
    "    #如果a能整除b，那么b就算两数的最大公约数\n",
    "    if a % b == 0:\n",
    "        return b\n",
    "    d = a % b\n",
    "    #a,b的最大公约数等于b,d的最大公约数\n",
    "    return gcd(b,d)\n",
    "    "
   ]
  },
  {
   "cell_type": "code",
   "execution_count": 41,
   "metadata": {},
   "outputs": [
    {
     "name": "stdout",
     "output_type": "stream",
     "text": [
      "the greatest common divisor of 128 and 48 is : 16\n"
     ]
    }
   ],
   "source": [
    "a = 128\n",
    "b = 48\n",
    "print(\"the greatest common divisor of {0} and {1} is : {2}\".format(a, b, gcd(a,b)))"
   ]
  },
  {
   "cell_type": "code",
   "execution_count": 55,
   "metadata": {},
   "outputs": [],
   "source": [
    "#求a除以b后所得的余数\n",
    "def module(a,b):\n",
    "    T=[]\n",
    "    t = 0\n",
    "    #先求T[n-1]\n",
    "    while (b <<t) <= a:\n",
    "        t += 1\n",
    "    t -= 1\n",
    "    T.append(t)\n",
    "    #下面代码求取T[n-2],T[n-3]...T[0]\n",
    "    a_prime = a - (b << T[len(T)-1])\n",
    "    while a_prime >= b:\n",
    "        while (b<<t) > a_prime:\n",
    "            t-=1\n",
    "        T.append(t)\n",
    "        a_prime = a_prime - (b<<T[len(T)-1])\n",
    "    \n",
    "    '''\n",
    "    k = 2<<T[n-1]+2<<T[n-2]+...2<<T[0]\n",
    "    a = k*b+d\n",
    "    所以 d = a - k*b = a - (b<<T[n-1]+b<<T[n-2]+...b<<T[0])\n",
    "    '''\n",
    "    d = a\n",
    "    for i in range(0, len(T)):\n",
    "        d -= (b << T[i])\n",
    "    \n",
    "    #d 就是两数相除余数\n",
    "    return d\n",
    "    \n",
    "    "
   ]
  },
  {
   "cell_type": "code",
   "execution_count": 56,
   "metadata": {
    "collapsed": true
   },
   "outputs": [],
   "source": [
    "def binaryGcd(a, b):\n",
    "    #如果a能整除b，那么b就算两数的最大公约数\n",
    "    if module(a,b) == 0:\n",
    "        return b\n",
    "    d = module(a,b)\n",
    "    #a,b的最大公约数等于b,d的最大公约数\n",
    "    return binaryGcd(b,d)"
   ]
  },
  {
   "cell_type": "code",
   "execution_count": 59,
   "metadata": {},
   "outputs": [
    {
     "name": "stdout",
     "output_type": "stream",
     "text": [
      "greatest commond divisor of 128 and 72 is 8\n"
     ]
    }
   ],
   "source": [
    "a = 128\n",
    "b = 72\n",
    "print(\"greatest commond divisor of {0} and {1} is {2}\".format(a,b,binaryGcd(a,b)))"
   ]
  },
  {
   "cell_type": "code",
   "execution_count": 70,
   "metadata": {
    "collapsed": true
   },
   "outputs": [],
   "source": [
    "#用每一个它小的数去整除它本身，如果能整除就不是素数\n",
    "def isPrime(k):\n",
    "    for i in range(2, k):\n",
    "        if k % i == 0:\n",
    "            return False\n",
    "    return True"
   ]
  },
  {
   "cell_type": "code",
   "execution_count": 71,
   "metadata": {
    "collapsed": true
   },
   "outputs": [],
   "source": [
    "def getPrimes(n):\n",
    "    primes = []\n",
    "    for i in range (1,n+1):\n",
    "        if isPrime(i):\n",
    "            primes.append(i)\n",
    "    return primes"
   ]
  },
  {
   "cell_type": "code",
   "execution_count": 72,
   "metadata": {},
   "outputs": [
    {
     "name": "stdout",
     "output_type": "stream",
     "text": [
      "[1, 2, 3, 5, 7, 11, 13, 17, 19, 23, 29, 31, 37, 41, 43, 47, 53, 59, 61, 67, 71, 73, 79, 83, 89, 97]\n"
     ]
    }
   ],
   "source": [
    "n = 100\n",
    "print(getPrimes(n))"
   ]
  },
  {
   "cell_type": "code",
   "execution_count": 74,
   "metadata": {
    "collapsed": true
   },
   "outputs": [],
   "source": [
    "#先保存最小的三个素数,对于给定整数k，它会记录所有小于k的素数\n",
    "prime_array = [1,2,3]\n",
    "def isPrime2(k):\n",
    "    if k <= 3 :\n",
    "        return True\n",
    "    for i in range(len(prime_array)):\n",
    "        if k > prime_array[i] and k % prime_array[i] == 0:\n",
    "            return False\n",
    "    #如果k是素数，把它加入素数数组\n",
    "    prime_array.append(k)\n",
    "    return True"
   ]
  },
  {
   "cell_type": "code",
   "execution_count": 75,
   "metadata": {
    "collapsed": true
   },
   "outputs": [],
   "source": [
    "def getPrimes2(n):\n",
    "    primes = []\n",
    "    for i in range(n+1):\n",
    "        if isPrime2(i):\n",
    "            primes.append(i)\n",
    "    return primes"
   ]
  },
  {
   "cell_type": "code",
   "execution_count": 76,
   "metadata": {
    "scrolled": true
   },
   "outputs": [
    {
     "name": "stdout",
     "output_type": "stream",
     "text": [
      "[1, 2, 3, 5, 7, 11, 13, 17, 19, 23, 29, 31, 37, 41, 43, 47, 53, 59, 61, 67, 71, 73, 79, 83, 89, 97]\n"
     ]
    }
   ],
   "source": [
    "print(getPrimes(100))"
   ]
  },
  {
   "cell_type": "code",
   "execution_count": 81,
   "metadata": {
    "collapsed": true
   },
   "outputs": [],
   "source": [
    "def getPrimesInRange(n):\n",
    "    primes = []\n",
    "    for i in range(n+1):\n",
    "        primes.append(True)\n",
    "    for i in range(2, n+1):\n",
    "        #从第二个素数2开始删除,删除一轮下来后，如果接下来的Prime[i]是True，那么其对应的整数就是素数\n",
    "        if primes[i] == True:\n",
    "            p = i\n",
    "            j = 2\n",
    "            #把当前素数的倍数全部删除\n",
    "            while p*j <= n:\n",
    "                primes[p*j] = False\n",
    "                j += 1\n",
    "    for i in range(len(primes)):\n",
    "        if primes[i] == True:\n",
    "            print(\"{0},\".format(i), end='')\n"
   ]
  },
  {
   "cell_type": "code",
   "execution_count": 82,
   "metadata": {},
   "outputs": [
    {
     "name": "stdout",
     "output_type": "stream",
     "text": [
      "0,1,2,3,5,7,11,13,17,19,23,29,31,37,41,43,47,53,59,61,67,71,73,79,83,89,97,"
     ]
    }
   ],
   "source": [
    "n = 100\n",
    "getPrimesInRange(n)"
   ]
  },
  {
   "cell_type": "code",
   "execution_count": 122,
   "metadata": {},
   "outputs": [],
   "source": [
    "class Rectangle(object):\n",
    "    #构造函数要求输入左下角坐标和宽高\n",
    "    def __init__(self, x, y, width, height):\n",
    "        self.x = x\n",
    "        self.y = y\n",
    "        self.w = width\n",
    "        self.h = height\n",
    "    def isInterset(self,r):\n",
    "        #根据公式1，2,判断两个集合是否相交\n",
    "        if self.x <= r.x + r.w and r.x <= self.x + self.w and self.y <= r.y + r.h and r.y <= self.y + self.h:\n",
    "            return True\n",
    "        return False\n",
    "    def intersetRectangle(self, r):\n",
    "        if self.isInterset(r):\n",
    "            #根据公式3，4，5，6构造出相交矩形\n",
    "            return Rectangle(max(self.x, r.x), max(self.y,r.y), \n",
    "                            min(r.x+r.w,self.x+self.w) - max(r.x,self.x),min(r.y+r.h, self.y+self.h) - max(r.y,self.y))\n",
    "        return Null\n",
    "            \n",
    "                          \n",
    "                        "
   ]
  },
  {
   "cell_type": "code",
   "execution_count": 135,
   "metadata": {},
   "outputs": [
    {
     "name": "stdout",
     "output_type": "stream",
     "text": [
      "x:0.2,y:0.2,w:0.39999999999999997,h:0.39999999999999997\n"
     ]
    },
    {
     "data": {
      "image/png": "[encoded data removed]",
      "text/plain": [
       "<matplotlib.figure.Figure at 0x11a135dd8>"
      ]
     },
     "metadata": {},
     "output_type": "display_data"
    }
   ],
   "source": [
    "import matplotlib.pyplot as plt\n",
    "import matplotlib.patches as patches\n",
    "S = Rectangle(0.1,0.1,0.5,0.5)\n",
    "R = Rectangle(0.2,0.2,0.6,0.5)\n",
    "fig = plt.figure()\n",
    "ax = fig.add_subplot(111, aspect='equal')\n",
    "#用红色绘制S表示的矩形\n",
    "ax.add_patch(patches.Rectangle((S.x,S.y),S.w,S.h, facecolor='red'))\n",
    "#用蓝色绘制R表示的矩形\n",
    "ax.add_patch(patches.Rectangle((R.x,R.y),R.w,R.h, facecolor='blue'))\n",
    "#fig.savefig('rectangle.png', dpi=90, bbox_inches='tight')\n",
    "#plt.show('rectangle.png')\n",
    "if S.isInterset(R) is True:\n",
    "    #如果两个矩形相交，那么用绿色绘制出相交部分的矩形\n",
    "    interset = S.intersetRectangle(R)\n",
    "    print(\"x:{0},y:{1},w:{2},h:{3}\".format(interset.x,interset.y,interset.w,interset.h))\n",
    "    ax.add_patch(patches.Rectangle((interset.x,interset.y),interset.w,interset.h, facecolor='green'))\n",
    "    fig.savefig('rectangle1.png', dpi=90, bbox_inches='tight')\n",
    "    plt.show('rectangle1.png')"
   ]
  },
  {
   "cell_type": "code",
   "execution_count": 144,
   "metadata": {
    "collapsed": true
   },
   "outputs": [],
   "source": [
    "'''\n",
    "把s表示的数字字符串转换成b进制数\n",
    "'''\n",
    "def  strToInt(s, b):\n",
    "    val = 0\n",
    "    base = 1\n",
    "    i= len(s) - 1\n",
    "    while i >= 0:\n",
    "        c = s[i]\n",
    "        v = 0\n",
    "        #把字符转换成对应的数字\n",
    "        if '0' <= c and c <= '9':\n",
    "            v = ord(c) - ord('0')\n",
    "        #如果超过9，判断其是否属于16进制的'A'到'E'之间\n",
    "        if c >= 'A' and c <= 'E':\n",
    "            v = 10 + ord(c) - ord('A')\n",
    "        if i < len(s) - 1:\n",
    "            '''\n",
    "            每读取一个数字就要乘以相应进进位,例如s=\"1234\",读取4时val = 4,读取3时，val=3*10+4\n",
    "            以此类推\n",
    "            '''\n",
    "            base *= b\n",
    "        val += v*base\n",
    "        i -= 1\n",
    "    return val"
   ]
  },
  {
   "cell_type": "code",
   "execution_count": 150,
   "metadata": {},
   "outputs": [
    {
     "name": "stdout",
     "output_type": "stream",
     "text": [
      "1234\n",
      "24\n"
     ]
    }
   ],
   "source": [
    "print(strToInt(\"1234\",10))\n",
    "print(strToInt(\"1B\", 13))"
   ]
  },
  {
   "cell_type": "code",
   "execution_count": 160,
   "metadata": {},
   "outputs": [],
   "source": [
    "def  intToStr(v, b):\n",
    "    s=\"\"\n",
    "    c = '0'\n",
    "    while v > 0:\n",
    "        d = v % b\n",
    "        if d >=0 and d <= 9:\n",
    "            c = chr(ord('0') + d)\n",
    "        elif d >= 10:\n",
    "            c = chr(ord('A') + d - 10)\n",
    "        s = c + s\n",
    "        v = int(v/b)\n",
    "    return s"
   ]
  },
  {
   "cell_type": "code",
   "execution_count": 163,
   "metadata": {},
   "outputs": [
    {
     "name": "stdout",
     "output_type": "stream",
     "text": [
      "binary form of 1234 is 0b10011010010\n",
      "binary form of 1234 by calling intToStr is 10011010010\n"
     ]
    }
   ],
   "source": [
    "v = 1234\n",
    "print(\"binary form of {0} is {1}\".format(v,bin(v)))\n",
    "print(\"binary form of {0} by calling intToStr is {1}\".format(v, intToStr(v, 2)))"
   ]
  },
  {
   "cell_type": "code",
   "execution_count": 164,
   "metadata": {
    "collapsed": true
   },
   "outputs": [],
   "source": [
    "def  eliasGammaEncode(n):\n",
    "    s = intToBinaryString(n)\n",
    "    s = addZerosToHead(s)\n",
    "    return s"
   ]
  },
  {
   "cell_type": "code",
   "execution_count": 166,
   "metadata": {
    "collapsed": true
   },
   "outputs": [],
   "source": [
    "def  intToBinaryString(n):\n",
    "    s = \"\"\n",
    "    while n > 0 :\n",
    "        if n & 1 == 0:\n",
    "            s = \"0\" + s\n",
    "        else:\n",
    "            s = \"1\" + s\n",
    "        n = n>>1\n",
    "    return s"
   ]
  },
  {
   "cell_type": "code",
   "execution_count": 171,
   "metadata": {
    "collapsed": true
   },
   "outputs": [],
   "source": [
    "def  addZerosToHead(s):\n",
    "    i = len(s)\n",
    "    while i - 1 > 0:\n",
    "        s = '0' + s\n",
    "        i -= 1\n",
    "    return s"
   ]
  },
  {
   "cell_type": "code",
   "execution_count": 172,
   "metadata": {},
   "outputs": [
    {
     "name": "stdout",
     "output_type": "stream",
     "text": [
      "0b1101\n",
      "0001101\n"
     ]
    }
   ],
   "source": [
    "print(bin(13))\n",
    "print(eliasGammaEncode(13))"
   ]
  },
  {
   "cell_type": "code",
   "execution_count": 173,
   "metadata": {
    "collapsed": true
   },
   "outputs": [],
   "source": [
    "def  eliasGammaEncodeArray(array):\n",
    "    s = \"\"\n",
    "    for i in range(len(array)):\n",
    "        s += eliasGammaEncode(array[i])\n",
    "    return s"
   ]
  },
  {
   "cell_type": "code",
   "execution_count": 174,
   "metadata": {},
   "outputs": [
    {
     "name": "stdout",
     "output_type": "stream",
     "text": [
      "000101100011000001101\n"
     ]
    }
   ],
   "source": [
    "array = [11, 12, 13]\n",
    "print(eliasGammaEncodeArray(array))"
   ]
  },
  {
   "cell_type": "code",
   "execution_count": 205,
   "metadata": {
    "collapsed": true
   },
   "outputs": [],
   "source": [
    "def  eliasGammaDecode(s):\n",
    "    length = getHeadZerosCount(s)\n",
    "    if length <= 0:\n",
    "        raise Exception(\"head zero error\")\n",
    "    s = s[length:]\n",
    "    binary = s[0:length+1]\n",
    "    n = binaryStringToInt(binary)\n",
    "    return n"
   ]
  },
  {
   "cell_type": "code",
   "execution_count": 206,
   "metadata": {},
   "outputs": [],
   "source": [
    "def  getHeadZerosCount(s):\n",
    "    cnt = 0\n",
    "    for i in range(len(s)):\n",
    "        if s[i] == '0':\n",
    "            cnt+=1\n",
    "        else:\n",
    "            break\n",
    "    return cnt\n",
    "        "
   ]
  },
  {
   "cell_type": "code",
   "execution_count": 207,
   "metadata": {
    "collapsed": true
   },
   "outputs": [],
   "source": [
    "#把二进制字符串转换成对应整数\n",
    "def  binaryStringToInt(s):\n",
    "    n = 0\n",
    "    for i in range(len(s)):\n",
    "        if s[i] == '1':\n",
    "            n |= 1\n",
    "        if i < len(s) - 1:\n",
    "            n = n << 1\n",
    "    return n"
   ]
  },
  {
   "cell_type": "code",
   "execution_count": 208,
   "metadata": {},
   "outputs": [],
   "source": [
    "def eliasGammaDecodeToArray(s):\n",
    "    array = []\n",
    "    while len(s) > 0:\n",
    "        n = eliasGammaDecode(s)\n",
    "        array.append(n)\n",
    "        encodeLength = len(eliasGammaEncode(n))\n",
    "        s = s[encodeLength:]\n",
    "    return array"
   ]
  },
  {
   "cell_type": "code",
   "execution_count": 209,
   "metadata": {},
   "outputs": [
    {
     "name": "stdout",
     "output_type": "stream",
     "text": [
      "[11, 12, 13]\n"
     ]
    }
   ],
   "source": [
    "s=\"000101100011000001101\"\n",
    "print(eliasGammaDecodeToArray(s))"
   ]
  },
  {
   "cell_type": "code",
   "execution_count": 217,
   "metadata": {},
   "outputs": [],
   "source": [
    "def  binaryAdd(x, y):\n",
    "    #x,y是进行二进制相加的两个整数,v表示最终结果，advance表示进位，r表示当前相加的比特位在二进制中的位置\n",
    "    v = 0\n",
    "    advance = 0\n",
    "    r = 0\n",
    "    while x > 0 or y > 0:\n",
    "        #取得当前最低位的比特位值\n",
    "        i = x & 1\n",
    "        j = y & 1\n",
    "        x = x >> 1\n",
    "        y = y >> 1\n",
    "        b = i ^ j\n",
    "        if b == 1:\n",
    "            #两个比特位的值不同，因此亦或结果为1\n",
    "            if  advance == 1:\n",
    "                #存在进位，两个比特位相加的结果再加上进位后值为0，同时产生一股进位\n",
    "                b = 0\n",
    "        else:\n",
    "            #亦或结果为0，表明两个比特位值相同\n",
    "            if i & j == 1:\n",
    "                #两个比特位的值都是1\n",
    "                if  advance == 1:\n",
    "                    #进位为1，相加结果为1，并产生一个进位\n",
    "                    b = 1\n",
    "                else:\n",
    "                    #进位不是1，相加结果为0，同时产生一个进位\n",
    "                    b = 0\n",
    "                    advance = 1\n",
    "            else:\n",
    "                #两个比特位都是0\n",
    "                if advance == 1:\n",
    "                    #如果进位为1，那么相加结果为1，同时进位为0\n",
    "                    b = 1\n",
    "                    advance = 0\n",
    "        b = b << r\n",
    "        v |= b\n",
    "        r += 1\n",
    "        \n",
    "    if advance == 1:\n",
    "        v |= (advance << r)\n",
    "    return v"
   ]
  },
  {
   "cell_type": "code",
   "execution_count": 219,
   "metadata": {},
   "outputs": [
    {
     "name": "stdout",
     "output_type": "stream",
     "text": [
      "0b1101 + 0b1011 is 0b11000\n",
      "result from binary add is 0b11000\n"
     ]
    }
   ],
   "source": [
    "a = 0b1101\n",
    "b = 0b1011\n",
    "print(\"{0} + {1} is {2}\".format(bin(a),bin(b),bin(a+b)))\n",
    "v = binaryAdd(a,b)\n",
    "print(\"result from binary add is {0}\".format(bin(v)))"
   ]
  },
  {
   "cell_type": "code",
   "execution_count": 223,
   "metadata": {
    "collapsed": true
   },
   "outputs": [],
   "source": [
    "def  binaryMultiply(a, b):\n",
    "    '''\n",
    "    7*7 转换成二进制是0b111 * 0b111，它转换成三个二进制数的加法，分别是0b111, 0b1110,0b11100\n",
    "    因此当第二个数的二进制格式中第i位是1时，这意味着第一个数要整体左移i为，例如第二个乘数的第1位比特位是1，因此0b111要左移\n",
    "    1位，于是就对应0b1110,以下的while 循环就是实现这个过程\n",
    "    '''\n",
    "    stack = []\n",
    "    s = 0\n",
    "    while b > 0 :\n",
    "        if b & 1 == 1:\n",
    "            #当前第s个比特位是1，那么把a左移相应位数\n",
    "            stack.append(a << s)\n",
    "        else:\n",
    "            #如果当前比特位是0，那么直接把0压入堆栈\n",
    "            stack.append(0)\n",
    "        b = b >> 1\n",
    "        s += 1\n",
    "    '''\n",
    "    依次从堆栈中弹出两个数，执行二进制加法，把结果压回堆栈，当堆栈只剩一个数时得到最终结果\n",
    "    '''\n",
    "    while (len(stack) > 1):\n",
    "        x = stack.pop()\n",
    "        y = stack.pop()\n",
    "        z = binaryAdd(x,y)\n",
    "        stack.append(z)\n",
    "        \n",
    "    return stack.pop()"
   ]
  },
  {
   "cell_type": "code",
   "execution_count": 225,
   "metadata": {},
   "outputs": [
    {
     "name": "stdout",
     "output_type": "stream",
     "text": [
      "441\n"
     ]
    }
   ],
   "source": [
    "v = binaryMultiply(63, 7)\n",
    "print(v)"
   ]
  },
  {
   "cell_type": "code",
   "execution_count": null,
   "metadata": {
    "collapsed": true
   },
   "outputs": [],
   "source": []
  }
 ],
 "metadata": {
  "kernelspec": {
   "display_name": "Python 3",
   "language": "python",
   "name": "python3"
  },
  "language_info": {
   "codemirror_mode": {
    "name": "ipython",
    "version": 3
   },
   "file_extension": ".py",
   "mimetype": "text/x-python",
   "name": "python",
   "nbconvert_exporter": "python",
   "pygments_lexer": "ipython3",
   "version": "3.6.3"
  }
 },
 "nbformat": 4,
 "nbformat_minor": 2
}
