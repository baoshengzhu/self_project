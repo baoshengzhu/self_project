{
 "cells": [
  {
   "cell_type": "code",
   "execution_count": 2,
   "metadata": {},
   "outputs": [],
   "source": [
    "class  ReversePolishExpr:\n",
    "    def __init__(self, expr):\n",
    "        self.expression = expr\n",
    "        self.stack = []\n",
    "    def calculation(self):\n",
    "        exprs = self.expression.split(',')\n",
    "        for expr in exprs:\n",
    "            if self.isOperator(expr) and len(self.stack) < 2:\n",
    "                raise RuntimeError('stack less than 2 elements')\n",
    "            if self.isOperator(expr):\n",
    "                #如果当前字符是操作符，那么将堆栈顶部两元素弹出后进行计算\n",
    "                self.doCalculation(expr)\n",
    "            else:\n",
    "                #如果当前字符是数字，将其压入堆栈\n",
    "                self.stack.append(int(expr))\n",
    "                \n",
    "        return self.stack.pop()\n",
    "    def isOperator(self, expr):\n",
    "        if len(expr) > 1:\n",
    "            return False\n",
    "        if expr == \"+\" or expr == \"-\" or expr == \"*\" or expr == \"/\":\n",
    "            return True\n",
    "        return False\n",
    "    def doCalculation(self, operator):\n",
    "        '''\n",
    "        如果当前读入是操作符，弹出堆栈顶部的两个元素，根据操作符进行计算，再把结果压入堆栈\n",
    "        '''\n",
    "        op1 = self.stack.pop()\n",
    "        op2 = self.stack.pop()\n",
    "        \n",
    "        if operator == \"+\":\n",
    "            self.stack.append(op1 + op2)\n",
    "        elif operator == \"-\":\n",
    "            self.stack.append(op1 - op2)\n",
    "        elif operator == \"*\":\n",
    "            self.stack.append(op1 * op2)\n",
    "        elif operator == \"/\":\n",
    "            self.stack.append(op1 / op2)\n",
    "\n"
   ]
  },
  {
   "cell_type": "code",
   "execution_count": 3,
   "metadata": {},
   "outputs": [
    {
     "name": "stdout",
     "output_type": "stream",
     "text": [
      "result of reverse polish expression is 15\n"
     ]
    }
   ],
   "source": [
    "rp = ReversePolishExpr(\"3,4,*,1,2,+,+\")\n",
    "print(\"result of reverse polish expression is {0}\".format(rp.calculation()))"
   ]
  },
  {
   "cell_type": "code",
   "execution_count": 5,
   "metadata": {},
   "outputs": [],
   "source": [
    "import sys\n",
    "class  MaxStack:\n",
    "    def __init__(self):\n",
    "        self.stack = []\n",
    "        self.maxStack = []\n",
    "        self.maxVal = -sys.maxsize - 1\n",
    "    def push(self, val):\n",
    "        if val > self.maxVal:\n",
    "            self.maxVal = val\n",
    "            self.maxStack.append(val)\n",
    "            \n",
    "        self.stack.append(val)\n",
    "        \n",
    "    def peek(self):\n",
    "        #返回堆栈最顶元素但不弹出\n",
    "        return self.stack[len(self.stack) - 1]\n",
    "        self.stack.append(val)\n",
    "    def pop(self):\n",
    "        #如果弹出的元素是当前堆栈最大值，那么也要将maxStack顶部的元素弹出\n",
    "        if self.peek() == self.maxVal:\n",
    "            self.maxStack.pop()\n",
    "        self.maxVal = self.maxStack[len(self.maxStack) - 1]\n",
    "        \n",
    "        return self.stack.pop()\n",
    "    def max(self):\n",
    "        return self.maxStack[len(self.maxStack) - 1]"
   ]
  },
  {
   "cell_type": "code",
   "execution_count": 6,
   "metadata": {},
   "outputs": [
    {
     "name": "stdout",
     "output_type": "stream",
     "text": [
      "max val in stack is 5\n",
      "max val in stack is 10\n",
      "max val in stack is 6\n"
     ]
    }
   ],
   "source": [
    "ms = MaxStack()\n",
    "ms.push(5)\n",
    "ms.push(4)\n",
    "ms.push(2)\n",
    "ms.push(3)\n",
    "\n",
    "print(\"max val in stack is {0}\".format(ms.max()))\n",
    "\n",
    "ms.push(6)\n",
    "ms.push(1)\n",
    "ms.push(10)\n",
    "ms.push(8)\n",
    "\n",
    "print(\"max val in stack is {0}\".format(ms.max()))\n",
    "\n",
    "ms.pop()\n",
    "ms.pop()\n",
    "print(\"max val in stack is {0}\".format(ms.max()))\n"
   ]
  },
  {
   "cell_type": "code",
   "execution_count": 7,
   "metadata": {
    "collapsed": true
   },
   "outputs": [],
   "source": [
    "class ParenMatch:\n",
    "    def __init__(self, parens):\n",
    "        self.parens = parens\n",
    "        self.stack = []\n",
    "    def  isMatch(self):\n",
    "        for c in self.parens:\n",
    "            if c == '(':\n",
    "               #读取左括号则压入堆栈\n",
    "               self.stack.append(c)\n",
    "            elif c == ')':\n",
    "                #读取右括号则弹出堆栈，如果堆栈为空，括号就不匹配\n",
    "                if len(self.stack) == 0 :\n",
    "                    return False\n",
    "                self.stack.pop()\n",
    "            else:\n",
    "                raise RuntimeError(\"Illegal character\")\n",
    "         #所有字符读取完后，堆栈不为空，那么括号不匹配\n",
    "        if len(self.stack) != 0:\n",
    "            return False\n",
    "        \n",
    "        return True"
   ]
  },
  {
   "cell_type": "code",
   "execution_count": 10,
   "metadata": {},
   "outputs": [
    {
     "name": "stdout",
     "output_type": "stream",
     "text": [
      "the matching result is :True\n"
     ]
    }
   ],
   "source": [
    "s = \"((())(()))\"\n",
    "pm = ParenMatch(s)\n",
    "print(\"the matching result is :{0}\".format(pm.isMatch()))"
   ]
  },
  {
   "cell_type": "code",
   "execution_count": 11,
   "metadata": {
    "collapsed": true
   },
   "outputs": [],
   "source": [
    "class HanoiMove:\n",
    "    def __init__(self, stackNum, stackFrom, stackTo):\n",
    "        '''\n",
    "        stackNum 表示铁饼数量，stackFrom，stackTo表示铁饼从哪里转移到哪里\n",
    "        '''\n",
    "        if stackNum <= 0 or stackFrom == stackTo or stackFrom < 0 or stackTo < 0:\n",
    "            raise RuntimeError(\"Invalid parameters\") \n",
    "        \n",
    "        self.stackFrom = stackFrom\n",
    "        self.stackTo = stackTo\n",
    "        self.hanoiMove = []\n",
    "        self.moveHanoiStack(self.stackFrom, self.stackTo, 1, stackNum)\n",
    "    def printMoveSteps(self):\n",
    "        if len(self.hanoiMove) == 1:\n",
    "            print(self.hanoiMove.pop())\n",
    "            return\n",
    "        '''\n",
    "        在输出第n个铁饼的挪动路径前，先输出前n-1个铁饼的挪动路径,最后再输出第n个铁饼的移动路径\n",
    "        '''\n",
    "        s = self.hanoiMove.pop()\n",
    "        self.printMoveSteps()\n",
    "        print(s)\n",
    "    def moveHanoiStack(self, stackFrom, stackTo, top, bottom):\n",
    "        '''\n",
    "        top表示当前挪动铁饼的最高那块铁饼所在位置，bottom表示挪动铁饼的最低那块铁饼所在位置\n",
    "        把杆子1上三块铁饼挪到杆子2上，对应的调用就是moveHanoiStack(1, 2, 1, 3)\n",
    "        '''\n",
    "        s = \"Moving ring \" + str(bottom) + \" from stack \" + str(stackFrom) + \" to \" + str(stackTo)\n",
    "        if bottom - top == 0:\n",
    "            #如果只挪动一块铁饼，那么直接挪到目的地\n",
    "            self.hanoiMove.append(s)\n",
    "            return\n",
    "        \n",
    "        other = stackFrom\n",
    "        for i in range(1, 4):\n",
    "            #i表示杆子的编号\n",
    "            if i != stackFrom and i != stackTo:\n",
    "                #找到用于中转的杆子编号\n",
    "                other = i\n",
    "                break\n",
    "        #先把n-1块铁饼挪到中转杆子\n",
    "        self.moveHanoiStack(stackFrom, other, top, bottom - 1)\n",
    "        #把最后一块铁饼挪到指定杆子\n",
    "        self.hanoiMove.append(s)\n",
    "        #把中转杆子上的n-1块铁饼挪到目的杆子\n",
    "        self.moveHanoiStack(other, stackTo, top, bottom - 1)"
   ]
  },
  {
   "cell_type": "code",
   "execution_count": 12,
   "metadata": {},
   "outputs": [
    {
     "name": "stdout",
     "output_type": "stream",
     "text": [
      "Moving ring 1 from stack 1 to 2\n",
      "Moving ring 2 from stack 1 to 3\n",
      "Moving ring 1 from stack 2 to 3\n",
      "Moving ring 3 from stack 1 to 2\n",
      "Moving ring 1 from stack 3 to 1\n",
      "Moving ring 2 from stack 3 to 2\n",
      "Moving ring 1 from stack 1 to 2\n"
     ]
    }
   ],
   "source": [
    "#把3块铁饼从杆子1挪到杆子2\n",
    "hm = HanoiMove(3, 1, 2)\n",
    "hm.printMoveSteps()"
   ]
  },
  {
   "cell_type": "code",
   "execution_count": 13,
   "metadata": {
    "collapsed": true
   },
   "outputs": [],
   "source": [
    "class StackSorter:\n",
    "    def  __init(self):\n",
    "        pass\n",
    "    def  sortByRecursion(self, stack):\n",
    "        if (len(stack) == 0):\n",
    "            return stack\n",
    "        #先把弹出的元素寄存在调用堆栈上\n",
    "        v = stack.pop()\n",
    "        #递归的排序余下的元素\n",
    "        stack = self.sortByRecursion(stack)\n",
    "        #递归的把元素按顺序插入堆栈\n",
    "        stack = self.insert(stack, v)\n",
    "        \n",
    "        return stack \n",
    "    def insert(self, stack, val):\n",
    "        if (len(stack) == 0 or val <= stack[len(stack) - 1]):\n",
    "            #如果插入的值比栈顶元素小，那么只讲将元素压入栈顶\n",
    "            stack.append(val)\n",
    "            return stack\n",
    "        #把小于val的元素暂存在调用堆栈上\n",
    "        t = stack.pop()\n",
    "        #递归性的将元素插入余下的堆栈元素\n",
    "        self.insert(stack, val)\n",
    "        #再把暂存的元素插回到堆栈\n",
    "        stack.append(t)\n",
    "        return stack"
   ]
  },
  {
   "cell_type": "code",
   "execution_count": 14,
   "metadata": {},
   "outputs": [
    {
     "name": "stdout",
     "output_type": "stream",
     "text": [
      "[6, 5, 4, 3, 2, 1]\n"
     ]
    }
   ],
   "source": [
    "stack = [3, 2, 5, 6, 1, 4]\n",
    "st = StackSorter()\n",
    "s = st.sortByRecursion(stack)\n",
    "print(s)    "
   ]
  },
  {
   "cell_type": "code",
   "execution_count": 19,
   "metadata": {
    "collapsed": true
   },
   "outputs": [],
   "source": [
    "class  Window:\n",
    "    def __init__(self, time, volumn):\n",
    "        self.time = time\n",
    "        self.volumn = volumn\n",
    "    def getTime(self):\n",
    "        return self.time\n",
    "    def getVolumn(self):\n",
    "        return self.volumn\n",
    "    \n",
    "class  SlidingWindow:\n",
    "    def  __init__(self, winList, size):\n",
    "        #传入时间节点队列和窗口大小\n",
    "        self.windowList = winList\n",
    "        self.workingQueue = []\n",
    "        self.maxQueue = []\n",
    "        self.count = 0\n",
    "        #start 和 end指针同时指向最后一个节点\n",
    "        self.start = self.end = len(winList) - 1   \n",
    "        self.windowSize = size\n",
    "        \n",
    "        if (len(winList) == 0 or size <= 0):\n",
    "            raise RuntimeError(\"Invalid parameters\")\n",
    "    def printMaxVolumnForTimePoints(self):\n",
    "        #输出每个节点在滑动窗口内的最大流量\n",
    "        while self.end >= 0:\n",
    "            #查找end指向节点的滑动窗口内所有节点,并将节点加入两个队列\n",
    "            self.findSlidingWindow()\n",
    "            #maxQueue头结点就是滑动窗口内的最大流量\n",
    "            m = self.maxQueue[0]\n",
    "            w = self.windowList[self.end]\n",
    "            print(\"Max volunm from time: {0} in sliding window size is: {1}\".format(w.getTime(), m.getVolumn()))\n",
    "            \n",
    "            if w == m:\n",
    "                #如果end指向的节点与maxQueue头结点相同，则去除maxQueue头结点\n",
    "                self.maxQueue = self.maxQueue[1:]\n",
    "            self.end -= 1\n",
    "    def findSlidingWindow(self):\n",
    "        self.count = 1\n",
    "        #把start指针前移,查找在end指向节点的窗口期内的最前节点\n",
    "        while self.start >= 0 and self.windowList[self.end].getTime() - self.windowList[self.start].getTime() <= self.windowSize:\n",
    "            #如果start指向节点流量大于maxQueue头结点，则将maxQueue清空\n",
    "            if len(self.maxQueue) > 0 and self.windowList[self.start].getVolumn() > self.maxQueue[0].getVolumn():\n",
    "                self.maxQueue = []\n",
    "            \n",
    "            self.start -= 1\n",
    "            self.count += 1\n",
    "        #如果start指向节点超出了end指向节点的窗口范围，要把start回退\n",
    "        if self.start >= 0 and self.windowList[self.end].getTime()  - self.windowList[self.start].getTime() > self.windowSize:\n",
    "            self.start += 1\n",
    "            self.count -= 1\n",
    "        #从start开始往后遍历count个元素，将他们加入相应队列\n",
    "        if self.count > 0:\n",
    "            self.buildMaxQueue()\n",
    "        if len(self.maxQueue) == 0:\n",
    "            #如果maxQueue为空，则将workingQueue切换成maxQueue\n",
    "            self.maxQueue = self.workingQueue\n",
    "            self.workingQueue = []\n",
    "    def buildMaxQueue(self):\n",
    "        s = 0\n",
    "        if self.start > 0:\n",
    "            s = self.start\n",
    "        #从start开始往后遍历count个元素，并根据条件将他们加入队列\n",
    "        while self.count > 0 and s <= self.end:\n",
    "            if len(self.workingQueue) == 0 or self.windowList[s].getVolumn() > self.workingQueue[0].getVolumn():\n",
    "                #如果workingQueue为空或当期节点的流量大于workingQueue头结点流量，则将其加入workingQueue\n",
    "                self.workingQueue.insert(0, self.windowList[s])\n",
    "            s += 1\n",
    "            self.count -= 1\n",
    "            \n",
    "        self.start -= 1\n"
   ]
  },
  {
   "cell_type": "code",
   "execution_count": 20,
   "metadata": {},
   "outputs": [
    {
     "name": "stdout",
     "output_type": "stream",
     "text": [
      "Max volunm from time: 19 in sliding window size is: 4\n",
      "Max volunm from time: 12 in sliding window size is: 9\n",
      "Max volunm from time: 9 in sliding window size is: 8\n",
      "Max volunm from time: 7 in sliding window size is: 10\n",
      "Max volunm from time: 5 in sliding window size is: 10\n",
      "Max volunm from time: 3 in sliding window size is: 10\n",
      "Max volunm from time: 1 in sliding window size is: 10\n"
     ]
    }
   ],
   "source": [
    "windowList = []\n",
    "\n",
    "windowList.append(Window(1,10))\n",
    "windowList.append(Window(3,1))\n",
    "windowList.append(Window(5,4))\n",
    "windowList.append(Window(7,8))\n",
    "windowList.append(Window(9,3))\n",
    "windowList.append(Window(12,9))\n",
    "windowList.append(Window(19,4))\n",
    "\n",
    "sw = SlidingWindow(windowList, 6)\n",
    "sw.printMaxVolumnForTimePoints()"
   ]
  },
  {
   "cell_type": "code",
   "execution_count": 21,
   "metadata": {
    "collapsed": true
   },
   "outputs": [],
   "source": [
    "class StackQueue:\n",
    "    def __init__(self):\n",
    "        self.stackA = []\n",
    "        self.stackB = []\n",
    "    def enqueue(self, v):\n",
    "        #enqueue时将元素压入堆栈A\n",
    "        self.stackA.append(v)\n",
    "    def dequeue(self):\n",
    "        if len(self.stackB) == 0:\n",
    "            #出队时如果堆栈B为空，那么把A中元素弹出后压入堆栈B\n",
    "            while len(self.stackA) > 0:\n",
    "                self.stackB.append(self.stackA.pop())\n",
    "        return self.stackB.pop()"
   ]
  },
  {
   "cell_type": "code",
   "execution_count": 22,
   "metadata": {},
   "outputs": [
    {
     "name": "stdout",
     "output_type": "stream",
     "text": [
      "enqueue:\n",
      "0 1 2 3 4 5 \n",
      "dequeue:\n",
      "0 1 2 3 4 5 "
     ]
    }
   ],
   "source": [
    "sq = StackQueue()\n",
    "print(\"enqueue:\")\n",
    "for i in range(6):\n",
    "    sq.enqueue(i)\n",
    "    print(\"{0} \".format(i), end=\"\")\n",
    "print(\"\\ndequeue:\")\n",
    "for i in range(6):\n",
    "    print(\"{0} \".format(sq.dequeue()), end=\"\")"
   ]
  },
  {
   "cell_type": "code",
   "execution_count": null,
   "metadata": {
    "collapsed": true
   },
   "outputs": [],
   "source": []
  }
 ],
 "metadata": {
  "kernelspec": {
   "display_name": "Python 3",
   "language": "python",
   "name": "python3"
  },
  "language_info": {
   "codemirror_mode": {
    "name": "ipython",
    "version": 3
   },
   "file_extension": ".py",
   "mimetype": "text/x-python",
   "name": "python",
   "nbconvert_exporter": "python",
   "pygments_lexer": "ipython3",
   "version": "3.6.3"
  }
 },
 "nbformat": 4,
 "nbformat_minor": 2
}
