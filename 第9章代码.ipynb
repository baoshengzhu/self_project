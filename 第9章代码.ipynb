{
 "cells": [
  {
   "cell_type": "code",
   "execution_count": 1,
   "metadata": {
    "collapsed": true
   },
   "outputs": [],
   "source": [
    "def binarySearch(A, B, E, t):\n",
    "    '''\n",
    "    A 要查找的数组,B 查找的起点，E查找范围的终点，t要查找的值\n",
    "    '''\n",
    "    L = B\n",
    "    U = E \n",
    "    while L <= U:\n",
    "        '''\n",
    "        在名著《编程珠玑》中，获取中点下标时使用的是 M = (U + L) / 2, 如果U和L的值足够大，\n",
    "        U + L 就会导致计算溢出，超出32位或64位以上的比特位会被丢弃，于是U+L 会得到比预期结果要小的值，\n",
    "        虽然 M = L + (U - L) / 2 在某些情况下也会导致溢出，但由于使其出错的情况非常罕见，所以我们暂时\n",
    "        使用该办法\n",
    "        '''\n",
    "        #先取中点元素下标\n",
    "        M = L + int( (U - L) / 2 )\n",
    "        if A[M] < t:\n",
    "            #如果中点值小于要查找元素，那么我们就在后半部查找\n",
    "            L = M + 1\n",
    "        elif A[M] == t:\n",
    "            #如果中点值等于要查找数值，直接返回\n",
    "            return M\n",
    "        else:\n",
    "            #如果中点值大于要查找值，到前半部分查找\n",
    "            U = M - 1\n",
    "    \n",
    "    return None"
   ]
  },
  {
   "cell_type": "code",
   "execution_count": 3,
   "metadata": {},
   "outputs": [
    {
     "name": "stdout",
     "output_type": "stream",
     "text": [
      "the position of value 6 is 5\n"
     ]
    }
   ],
   "source": [
    "A = [1,2,3,4,5,6,7,8,9]\n",
    "v = 6\n",
    "p = binarySearch(A, 0, 8, v)\n",
    "print(\"the position of value {0} is {1}\".format(v, p))"
   ]
  },
  {
   "cell_type": "code",
   "execution_count": 4,
   "metadata": {},
   "outputs": [
    {
     "name": "stdout",
     "output_type": "stream",
     "text": [
      "Sum of A[3] and A[7] is 167\n"
     ]
    }
   ],
   "source": [
    "A = [-49, 75, 103, -147, 164, -197, -238, 314, 348, -422]\n",
    "K = 167\n",
    "#假设最后元素的绝对值是M, 当每个元素都加上M后，两元素之和就得增加2*M,因此K的值也要相应的转换为2*M\n",
    "M = abs(A[len(A) - 1])\n",
    "K += 2*M \n",
    "#对每个元素都加上M\n",
    "for i in range(len(A)):\n",
    "    A[i] += M \n",
    "\n",
    "#循环数组每个元素A[i]，用 K - A[i],所得结果在数组中进行二分查找\n",
    "elementPos = -1\n",
    "for i in range(len(A)):\n",
    "    v = K - A[i]\n",
    "    pos = binarySearch(A, i+1, len(A) - 1, v)\n",
    "    if pos is not None:\n",
    "        elementPos = pos \n",
    "        break\n",
    "if elementPos != -1:\n",
    "    print(\"Sum of A[{0}] and A[{1}] is {2}\".format(i, elementPos, K - 2*M))\n",
    "        "
   ]
  },
  {
   "cell_type": "code",
   "execution_count": 5,
   "metadata": {
    "collapsed": true
   },
   "outputs": [],
   "source": [
    "class  KthElementSearch:\n",
    "    def __init__(self, sortedA, sortedB, k):\n",
    "        if k < 0 or sortedA is None or sortedB is None:\n",
    "            raise RuntimeError(\"Parameters error\")\n",
    "        \n",
    "        self.sortedArrayA = sortedA \n",
    "        self.sortedArrayB = sortedB\n",
    "        \n",
    "        #如果数组A的长度大于k，则在前k个元素查找\n",
    "        if len(self.sortedArrayA) > k - 1:\n",
    "            #k-1是第k个元素的下标\n",
    "            self.end = k - 1\n",
    "        else:\n",
    "            self.end = len(self.sortedArrayA)\n",
    "        \n",
    "        self.begin = 0\n",
    "        self.requestElementCount = k \n",
    "        \n",
    "        self.findGivenElement()\n",
    "    \n",
    "    def findGivenElement(self):\n",
    "        '''\n",
    "        用二分查找法寻找下标I, U = k - I ,使得A[I] > B[U-1], A[I-1] < B[U]\n",
    "        '''\n",
    "        while self.begin <= self.end:\n",
    "            #折半查找时先获取中点元素\n",
    "            l = int( (self.begin + self.end) / 2 )\n",
    "            '''\n",
    "            l 对应算法描述中的 I-1，因为l对应的是元素下标，下标计数从0开始，因此l+1对应的就是I\n",
    "            u 对应算法描述中的U-1, 因此u+1对应的就是U\n",
    "            '''\n",
    "            u = self.requestElementCount - (l+1) - 1\n",
    "            if u+1 < len(self.sortedArrayB) and self.sortedArrayA[l] > self.sortedArrayB[u+1]:\n",
    "                #在前半部继续查找\n",
    "                self.end = l - 1\n",
    "            elif l+1 < len(self.sortedArrayA) and self.sortedArrayB[u] > self.sortedArrayA[l+1]:\n",
    "                #在后半部查找\n",
    "                self.begin = l + 1\n",
    "            else:\n",
    "                break\n",
    "        \n",
    "        self.indexA = l \n",
    "    def getIndexFromArrayA(self):\n",
    "        return self.indexA\n",
    "    def getIndexFromArrayB(self):\n",
    "        return self.requestElementCount - (self.indexA + 1) - 1"
   ]
  },
  {
   "cell_type": "code",
   "execution_count": 6,
   "metadata": {},
   "outputs": [
    {
     "name": "stdout",
     "output_type": "stream",
     "text": [
      "[4, 20, 21, 22, 29, 35, 41, 46, 49, 50]\n",
      "[5, 9, 11, 16, 17, 29, 39, 44, 47, 48]\n",
      "[4, 5, 9, 11, 16, 17, 20, 21, 22, 29, 29, 35, 39, 41, 44, 46, 47, 48, 49, 50]\n",
      "The 7th element of combined array is : 20\n",
      "Index of A is 1, value of element is 20\n",
      "Index of B is 4, value of element is 17\n"
     ]
    }
   ],
   "source": [
    "import random \n",
    "A = []\n",
    "B = []\n",
    "\n",
    "#构造数组A并排序\n",
    "for i in range(10):\n",
    "    A.append(random.randint(1,50))\n",
    "A.sort()   \n",
    "print(A)\n",
    "\n",
    "for i in range(10):\n",
    "    B.append(random.randint(1,50))\n",
    "B.sort()\n",
    "print(B)\n",
    "\n",
    "#合并两个数组并排序\n",
    "C = A + B \n",
    "C.sort()\n",
    "print(C)\n",
    "\n",
    "k = 7\n",
    "print(\"The {0}th element of combined array is : {1}\".format(k, C[k-1]))\n",
    "\n",
    "ke = KthElementSearch(A, B, k)\n",
    "indexA = ke.getIndexFromArrayA()\n",
    "indexB = ke.getIndexFromArrayB()\n",
    "\n",
    "print(\"Index of A is {0}, value of element is {1}\".format(indexA, A[indexA]))\n",
    "print(\"Index of B is {0}, value of element is {1}\".format(indexB, B[indexB]))\n"
   ]
  },
  {
   "cell_type": "code",
   "execution_count": 7,
   "metadata": {
    "collapsed": true
   },
   "outputs": [],
   "source": [
    "class SalaryCap:\n",
    "    def __init__(self, salaries, capTotal):\n",
    "        self.salaryArray = salaries \n",
    "        self.salaryTotoalCap = capTotal\n",
    "        #先对薪资数组进行排序\n",
    "        self.salaryArray.sort()\n",
    "        self.salarySum = []\n",
    "        sum = 0\n",
    "        #我们先把薪资依次加总以便后面判断\n",
    "        for i in range(len(self.salaryArray)):\n",
    "            sum += self.salaryArray[i]\n",
    "            self.salarySum.append(sum)\n",
    "        if capTotal >= sum:\n",
    "            raise RuntimeError(\"capped Salary can not bigger than original one\")\n",
    "        \n",
    "    def getSalaryCap(self):\n",
    "        begin = 0\n",
    "        end = len(self.salaryArray) - 1\n",
    "        m = -1\n",
    "        cap = -1\n",
    "        while begin <= end:\n",
    "            #二分查找截断点\n",
    "            m = int( (begin + end) / 2)\n",
    "            #计算截断值\n",
    "            amount = self.salaryTotoalCap - self.salarySum[m-1]\n",
    "            possibleCap = amount / ( len(self.salaryArray) - m)\n",
    "            \n",
    "            if possibleCap < self.salaryArray[m-1]:\n",
    "                #如果截断值比截断点前一个元素小，那么截断点应该在前半部\n",
    "                end = m - 1\n",
    "            if possibleCap > self.salaryArray[m]:\n",
    "                #如果截断值比截断点原来的值要大，那么截断点在后半部\n",
    "                begin = m + 1\n",
    "            if possibleCap >= self.salaryArray[m-1] and possibleCap <= self.salaryArray[m]:\n",
    "                cap = possibleCap\n",
    "                break\n",
    "        if cap != -1:\n",
    "            print(\"the capping position is :\", m)\n",
    "        return cap "
   ]
  },
  {
   "cell_type": "code",
   "execution_count": 10,
   "metadata": {},
   "outputs": [
    {
     "name": "stdout",
     "output_type": "stream",
     "text": [
      "The salary array are: [103, 133, 135, 142, 146, 150, 181, 184, 197, 199]\n",
      "preset capping position is 5, capping value is 148.0\n",
      "the capping position is : 5\n",
      "capping value is :  148.0\n"
     ]
    }
   ],
   "source": [
    "import random \n",
    "\n",
    "salaries = []\n",
    "for i in range(0, 10):\n",
    "    salaries.append(random.randint(100, 200))\n",
    "salaries.sort()\n",
    "print(\"The salary array are:\", salaries)\n",
    "\n",
    "#随机找一个元素做截断点\n",
    "cappingPosition = random.randint(0, len(salaries) - 1)\n",
    "#设定截断值为截断点上一个元素的值和截断点值之和的一半\n",
    "capValue = (salaries[cappingPosition - 1] + salaries[cappingPosition]) / 2\n",
    "print(\"preset capping position is {0}, capping value is {1}\".format(cappingPosition, capValue))\n",
    "\n",
    "#计算设定截断值后的总和\n",
    "capAmount = 0\n",
    "for i in range(cappingPosition):\n",
    "    capAmount += salaries[i]\n",
    "count = len(salaries) - cappingPosition\n",
    "capAmount += count * capValue\n",
    "\n",
    "sc = SalaryCap(salaries, capAmount)\n",
    "print(\"capping value is : \",sc.getSalaryCap())\n",
    "        "
   ]
  },
  {
   "cell_type": "code",
   "execution_count": 14,
   "metadata": {
    "collapsed": true
   },
   "outputs": [],
   "source": [
    "import numpy as np\n",
    "class TwoDArraySearch:\n",
    "    def __init__(self, array, val):\n",
    "        self.searchArray = array \n",
    "        self.searchValue = val \n",
    "        self.row = 0\n",
    "        self.col = array.shape[1]-1 \n",
    "    def search(self):\n",
    "        while self.row < self.searchArray.shape[0] and self.col >= 0:\n",
    "            #如果当前行和列所对应的元素与要查找的值相同则立即返回\n",
    "            if self.searchArray[self.row][self.col] == self.searchValue:\n",
    "                return True \n",
    "            '''\n",
    "            从第0行，第n列开始判断，如果给定元素大于当前元素，那么排除当前行，行数加1\n",
    "            '''\n",
    "            if self.searchValue > self.searchArray[self.row][self.col]:\n",
    "                self.row += 1\n",
    "            #如果给定元素比当前元素小，那么排除当前列，列数减1\n",
    "            if self.searchValue < self.searchArray[self.row][self.col]:\n",
    "                self.col -= 1\n",
    "        return False \n",
    "    def getRow(self):\n",
    "        return self.row \n",
    "    def getCol(self):\n",
    "        return self.col"
   ]
  },
  {
   "cell_type": "code",
   "execution_count": 15,
   "metadata": {},
   "outputs": [
    {
     "name": "stdout",
     "output_type": "stream",
     "text": [
      "Array contians the element in row 3 and in col 1\n"
     ]
    }
   ],
   "source": [
    "array = np.array([\n",
    "                 [2,4,6,8,10], \n",
    "                 [12,14,16,18,20],\n",
    "                 [22,24,26,28,30],\n",
    "                 [32,34,36,38,40],\n",
    "                 [42,44,46,48,50]\n",
    "                ])\n",
    "x = 34\n",
    "s = TwoDArraySearch(array, x)\n",
    "if s.search() is True:\n",
    "    print(\"Array contians the element in row {0} and in col {1}\".format(s.getRow(), s.getCol()))\n",
    "else:\n",
    "    print(\"Array does not contain the given element\")"
   ]
  },
  {
   "cell_type": "code",
   "execution_count": 16,
   "metadata": {},
   "outputs": [
    {
     "name": "stdout",
     "output_type": "stream",
     "text": [
      "['', '/Users/chenyi/anaconda3/lib/python36.zip', '/Users/chenyi/anaconda3/lib/python3.6', '/Users/chenyi/anaconda3/lib/python3.6/lib-dynload', '/Users/chenyi/anaconda3/lib/python3.6/site-packages', '/Users/chenyi/anaconda3/lib/python3.6/site-packages/aeosa', '/Users/chenyi/anaconda3/lib/python3.6/site-packages/IPython/extensions', '/Users/chenyi/.ipython']\n"
     ]
    }
   ],
   "source": [
    "import sys\n",
    "print(sys.path)"
   ]
  },
  {
   "cell_type": "code",
   "execution_count": null,
   "metadata": {
    "collapsed": true
   },
   "outputs": [],
   "source": []
  }
 ],
 "metadata": {
  "kernelspec": {
   "display_name": "Python 3",
   "language": "python",
   "name": "python3"
  },
  "language_info": {
   "codemirror_mode": {
    "name": "ipython",
    "version": 3
   },
   "file_extension": ".py",
   "mimetype": "text/x-python",
   "name": "python",
   "nbconvert_exporter": "python",
   "pygments_lexer": "ipython3",
   "version": "3.6.3"
  }
 },
 "nbformat": 4,
 "nbformat_minor": 2
}
