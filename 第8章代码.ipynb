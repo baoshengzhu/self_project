{
 "cells": [
  {
   "cell_type": "code",
   "execution_count": 48,
   "metadata": {
    "collapsed": true
   },
   "outputs": [],
   "source": [
    "import sys\n",
    "class HeapSort:\n",
    "    def __init__(self, array):\n",
    "        self.heapSize = len(array)\n",
    "        self.heapArray = array\n",
    "        \n",
    "    def parent(self, i):\n",
    "        #获得父亲节点在数组中的下标\n",
    "        return int(i/2)\n",
    "    def left(self, i):\n",
    "        #获得左孩子在数组中下标\n",
    "        return 2*i\n",
    "    def right(self, i):\n",
    "        #获得右孩子在数组中下标\n",
    "        return 2*i+1\n",
    "    def maxHeapify(self, i):\n",
    "        '''\n",
    "        把下标为i的节点与孩子节点进行置换,先找出左右孩子节点中最大值，然后将当前节点与之互换，\n",
    "        接着进入置换后的节点，继续执行置换流程，直到底部从而维持二叉树符合堆的性质\n",
    "        '''\n",
    "        #先把坐标i加一，因为数组下标从0开始，但是算法中元素的下标从1开始\n",
    "        i += 1\n",
    "        l = self.left(i)\n",
    "        r = self.right(i)\n",
    "        #把下标都减一，因为数组下标从0开始，算法中元素的下标从1开始\n",
    "        i -= 1\n",
    "        l -= 1\n",
    "        r -= 1\n",
    "        \n",
    "        #从左右孩子节点中找出最大那个\n",
    "        largest = -1\n",
    "        if l < self.heapSize and self.heapArray[l] > self.heapArray[i]:\n",
    "            largest = l\n",
    "        else:\n",
    "            largest = i \n",
    "        if r < self.heapSize and self.heapArray[r] > self.heapArray[largest]:\n",
    "            largest = r \n",
    "        \n",
    "        #如果左右孩子节点比父节点大，那么将父节点与对应的孩子节点置换\n",
    "        if largest != i:\n",
    "            temp = self.heapArray[i]\n",
    "            self.heapArray[i] = self.heapArray[largest]\n",
    "            self.heapArray[largest] = temp \n",
    "            #置换后进入下一层继续执行置换流程\n",
    "            self.maxHeapify(largest)\n",
    "    def buildMaxHeap(self):\n",
    "        #构建大堆\n",
    "        '''\n",
    "        如果元素在数组中的下标是i，那么左孩子下标为2*i,右孩子为2*i+1\n",
    "        于是所有处于出自后半部的元素只能是叶子节点，注意到单个节点本身就能构成大堆，所以叶子节点本身就满足大堆的性质\n",
    "        '''\n",
    "        i = int(self.heapSize / 2)\n",
    "        while i >= 0:\n",
    "            self.maxHeapify(i)\n",
    "            i -= 1\n",
    "        return self.heapArray\n",
    "    def maxmun(self): \n",
    "        return self.heapArray[0]\n",
    "    def extractMaximun(self): \n",
    "        if self.heapSize < 1:\n",
    "            return None\n",
    "        \n",
    "        max = self.heapArray[0]\n",
    "        #将最后一个元素的值设置成根节点的值\n",
    "        self.heapArray[0] = self.heapArray[self.heapSize - 1]\n",
    "        self.heapSize -= 1\n",
    "        self.heapArray.pop()\n",
    "        #调用maxHeapify将前n-1个元素调整成大堆结构\n",
    "        self.maxHeapify(0)\n",
    "        \n",
    "        return max\n",
    "    def increaseKey(self, i, k):\n",
    "        #改变下标为i的节点值\n",
    "        if self.heapArray[i] >= k:\n",
    "            return\n",
    "        self.heapArray[i] = k\n",
    "        #元素值增大后，它要与父节点置换以便满足大堆性质\n",
    "        while i > 0 and self.heapArray[self.parent(i)] < self.heapArray[i]:\n",
    "            temp = self.heapArray[self.parent(i)]\n",
    "            self.heapArray[self.parent(i)] = self.heapArray[i]\n",
    "            self.heapArray[i] = temp \n",
    "            i = self.parent(i)\n",
    "    def insert(self, val):\n",
    "        #在数组末尾添加一个最小值\n",
    "        self.heapArray.append(-sys.maxsize)\n",
    "        #然后调用increaseKey将它增加到val\n",
    "        self.heapSize += 1\n",
    "        self.increaseKey(self.heapSize - 1, val)\n",
    "        return self.heapArray\n",
    "\n"
   ]
  },
  {
   "cell_type": "code",
   "execution_count": 49,
   "metadata": {},
   "outputs": [
    {
     "name": "stdout",
     "output_type": "stream",
     "text": [
      "16 14 9 10 7 8 3 1 4 2 "
     ]
    }
   ],
   "source": [
    "A = [1,2,3,4,7,8,9,10,14,16]\n",
    "hs = HeapSort(A)\n",
    "heap = hs.buildMaxHeap()\n",
    "for i in heap:\n",
    "    print(\"{0} \".format(i), end=\"\")"
   ]
  },
  {
   "cell_type": "code",
   "execution_count": 50,
   "metadata": {},
   "outputs": [
    {
     "name": "stdout",
     "output_type": "stream",
     "text": [
      "max value is 16\n",
      "max value after calling extractMaximun is :14\n"
     ]
    }
   ],
   "source": [
    "print(\"max value is {0}\".format(hs.extractMaximun()))\n",
    "print(\"max value after calling extractMaximun is :{0}\".format(hs.maxmun()))"
   ]
  },
  {
   "cell_type": "code",
   "execution_count": 52,
   "metadata": {},
   "outputs": [
    {
     "name": "stdout",
     "output_type": "stream",
     "text": [
      "Maximun element after calling increaseKey is 17\n"
     ]
    }
   ],
   "source": [
    "hs.increaseKey(8, 17)\n",
    "print(\"Maximun element after calling increaseKey is {0}\".format(hs.maxmun()))"
   ]
  },
  {
   "cell_type": "code",
   "execution_count": 53,
   "metadata": {},
   "outputs": [
    {
     "name": "stdout",
     "output_type": "stream",
     "text": [
      "Maximun element after calling insert is 20\n"
     ]
    }
   ],
   "source": [
    "hs.insert(20)\n",
    "print(\"Maximun element after calling insert is {0}\".format(hs.maxmun()))"
   ]
  },
  {
   "cell_type": "code",
   "execution_count": 37,
   "metadata": {
    "collapsed": true
   },
   "outputs": [],
   "source": [
    "#该类把元素与其所在的波浪关联起来\n",
    "class Pair:\n",
    "    def __init__(self, v, b, e):\n",
    "        self.val = v \n",
    "        self.begin = b\n",
    "        self.end = e \n",
    "    def exchange(self, pair):\n",
    "        #交换两个Pair对象\n",
    "        v = self.val\n",
    "        b = self.begin\n",
    "        e = self.end\n",
    "        \n",
    "        self.val = pair.val\n",
    "        self.begin = pair.begin\n",
    "        self.end = pair.end \n",
    "        \n",
    "        pair.val = v \n",
    "        pair.begin = b\n",
    "        pair.end = e    "
   ]
  },
  {
   "cell_type": "code",
   "execution_count": 54,
   "metadata": {},
   "outputs": [],
   "source": [
    "class WaveArraySorter:\n",
    "    def __init__(self, array):\n",
    "        #而外用于排序数组的空间\n",
    "        self.waveArray = []\n",
    "        self.originalArray = array\n",
    "        self.waveBegin = 0\n",
    "        self.waveEnd = 0\n",
    "        self.pairArray = []\n",
    "        \n",
    "        self.findWaveAndSort()\n",
    "        \n",
    "    def findWaveAndSort(self):\n",
    "        #找到每一个波浪并对其进行排序\n",
    "        i = self.waveBegin \n",
    "        waveDown = False\n",
    "        while i < len(self.originalArray) - 1:\n",
    "            if self.originalArray[i] > self.originalArray[i+1]:\n",
    "                #当元素递减时抵达波峰\n",
    "                waveDown = True\n",
    "            \n",
    "            risingAgain = self.originalArray[i] < self.originalArray[i+1]\n",
    "            #数组的最后一部分元素有可能不是一个完整波浪而是只有半个波浪，也就是只有递增的那一边\n",
    "            reachingEnd = (i+1 == len(self.originalArray) - 1)\n",
    "            if( waveDown is True and risingAgain) or reachingEnd:\n",
    "                #此时抵达波浪的最后一个元素\n",
    "                if reachingEnd is True:\n",
    "                    #i+1是元素最后数组最后一个元素\n",
    "                    self.waveEnd = i + 1\n",
    "                else:\n",
    "                    self.waveEnd = i\n",
    "                #waveBegin和waveEnd分别指向波浪的起始和结束\n",
    "                self.sortWave()\n",
    "                \n",
    "                #将排好序后的波浪最后一个元素以及该元素所在波浪的起始和结束位置信息存储在Pair对象中\n",
    "                p = Pair(self.waveArray[self.waveEnd], self.waveBegin, self.waveEnd)\n",
    "                self.pairArray.append(p)\n",
    "                \n",
    "                self.waveBegin = i + 1\n",
    "                waveDown = False\n",
    "            i += 1\n",
    "            \n",
    "    def sortWave(self):\n",
    "        begin = self.waveBegin\n",
    "        end = self.waveEnd\n",
    "        \n",
    "        while begin <= end:\n",
    "            #把两个指针中较小的元素放置到新数组\n",
    "            if self.originalArray[begin] < self.originalArray[end]:\n",
    "                self.waveArray.append(self.originalArray[begin])\n",
    "                begin += 1\n",
    "            else:\n",
    "                self.waveArray.append(self.originalArray[end])\n",
    "                end -= 1\n",
    "     \n",
    "        \n",
    "    def getWaveSortedArray(self):\n",
    "        return self.waveArray"
   ]
  },
  {
   "cell_type": "code",
   "execution_count": 55,
   "metadata": {},
   "outputs": [
    {
     "name": "stdout",
     "output_type": "stream",
     "text": [
      "[57, 131, 190, 221, 294, 493, 339, 418, 442, 452]\n"
     ]
    }
   ],
   "source": [
    "wave = [57, 131, 221, 294, 493, 190 , 339, 418, 442, 452]\n",
    "ws = WaveArraySorter(wave)\n",
    "print(ws.getWaveSortedArray()) "
   ]
  },
  {
   "cell_type": "code",
   "execution_count": 56,
   "metadata": {
    "collapsed": true
   },
   "outputs": [],
   "source": [
    "class HeapPairSort:\n",
    "    def __init__(self, array):\n",
    "        self.heapSize = len(array)\n",
    "        self.heapArray = array\n",
    "        \n",
    "    def parent(self, i):\n",
    "        #获得父亲节点在数组中的下标\n",
    "        return int(i/2)\n",
    "    def left(self, i):\n",
    "        #获得左孩子在数组中下标\n",
    "        return 2*i\n",
    "    def right(self, i):\n",
    "        #获得右孩子在数组中下标\n",
    "        return 2*i+1\n",
    "    def maxHeapify(self, i):\n",
    "        '''\n",
    "        把下标为i的节点与孩子节点进行置换,先找出左右孩子节点中最大值，然后将当前节点与之互换，\n",
    "        接着进入置换后的节点，继续执行置换流程，直到底部从而维持二叉树符合堆的性质\n",
    "        '''\n",
    "        #先把坐标i加一，因为数组下标从0开始，但是算法中元素的下标从1开始\n",
    "        i += 1\n",
    "        l = self.left(i)\n",
    "        r = self.right(i)\n",
    "        #把下标都减一，因为数组下标从0开始，算法中元素的下标从1开始\n",
    "        i -= 1\n",
    "        l -= 1\n",
    "        r -= 1\n",
    "        \n",
    "        #从左右孩子节点中找出最大那个\n",
    "        largest = -1\n",
    "        if l < self.heapSize and self.heapArray[l].val > self.heapArray[i].val:\n",
    "            largest = l\n",
    "        else:\n",
    "            largest = i \n",
    "        if r < self.heapSize and self.heapArray[r].val > self.heapArray[largest].val:\n",
    "            largest = r \n",
    "        \n",
    "        #如果左右孩子节点比父节点大，那么将父节点与对应的孩子节点置换\n",
    "        if largest != i:\n",
    "           self.heapArray[largest].exchange(self.heapArray[i])\n",
    "           #置换后进入下一层继续执行置换流程\n",
    "           self.maxHeapify(largest)\n",
    "           \n",
    "    def buildMaxHeap(self):\n",
    "        #构建大堆\n",
    "        '''\n",
    "        如果元素在数组中的下标是i，那么左孩子下标为2*i,右孩子为2*i+1\n",
    "        于是所有处于出自后半部的元素只能是叶子节点，注意到单个节点本身就能构成大堆，所以叶子节点本身就满足大堆的性质\n",
    "        '''\n",
    "        i = int(self.heapSize / 2)\n",
    "        while i >= 0:\n",
    "            self.maxHeapify(i)\n",
    "            i -= 1\n",
    "        return self.heapArray\n",
    "    \n",
    "    def maxmun(self): \n",
    "        return self.heapArray[0]\n",
    "    \n",
    "    def extractMaximun(self): \n",
    "        if self.heapSize < 1:\n",
    "            return None\n",
    "        \n",
    "        max = self.heapArray[0]\n",
    "        #将最后一个元素的值设置成根节点的值\n",
    "        self.heapArray[0] = self.heapArray[self.heapSize - 1]\n",
    "        self.heapSize -= 1\n",
    "        self.heapArray.pop()\n",
    "        #调用maxHeapify将前n-1个元素调整成大堆结构\n",
    "        self.maxHeapify(0)\n",
    "        \n",
    "        return max\n",
    "    def increaseKey(self, i, k):\n",
    "        #改变下标为i的节点值\n",
    "        if self.heapArray[i].val >= k:\n",
    "            return\n",
    "        self.heapArray[i].val = k\n",
    "        #元素值增大后，它要与父节点置换以便满足大堆性质\n",
    "        while i > 0 and self.heapArray[self.parent(i)].val < self.heapArray[i].val:\n",
    "            self.heapArray[self.parent(i)].exchange(self.heapArray[i])\n",
    "            i = self.parent(i)\n",
    "    def insert(self, pair):\n",
    "        #在数组末尾添加一个最小值\n",
    "        p = Pair(-sys.maxsize, pair.begin, pair.end)\n",
    "        self.heapArray.append(p)\n",
    "        #然后调用increaseKey将它增加到val\n",
    "        self.heapSize += 1\n",
    "        self.increaseKey(self.heapSize - 1, pair.val)\n",
    "        return self.heapArray"
   ]
  },
  {
   "cell_type": "code",
   "execution_count": 57,
   "metadata": {},
   "outputs": [
    {
     "name": "stdout",
     "output_type": "stream",
     "text": [
      "[57, 131, 190, 221, 230, 271, 280, 294, 310, 332, 339, 350, 418, 432, 442, 450, 452, 493, 510, 631]\n"
     ]
    }
   ],
   "source": [
    "wave = [57, 131, 493, 294, 221,  339,  418, 452,  442, 190, 230, 310, 510, 432, 271, \n",
    "               280, 350, 631, 450, 332]     \n",
    "ws = WaveArraySorter(wave)   \n",
    "#取出每个波浪的最大值构建大堆\n",
    "hps = HeapPairSort(ws.pairArray)\n",
    "hps.buildMaxHeap()\n",
    "\n",
    "count = len(wave) - 1\n",
    "wave = []\n",
    "waveSortedArray = ws.getWaveSortedArray()\n",
    "\n",
    "while count >= 0:     \n",
    "    max = hps.extractMaximun()    \n",
    "    wave.insert(0, max.val)\n",
    "       \n",
    "    #将当前元素的前一个元素加入大堆\n",
    "    if max.end > max.begin:\n",
    "        max.end -= 1\n",
    "        max.val = waveSortedArray[max.end]\n",
    "        hps.insert(max)\n",
    "       \n",
    "    count -= 1\n",
    "\n",
    "print(wave)\n"
   ]
  },
  {
   "cell_type": "code",
   "execution_count": 89,
   "metadata": {},
   "outputs": [
    {
     "name": "stdout",
     "output_type": "stream",
     "text": [
      "2\n"
     ]
    }
   ],
   "source": [
    "import random;\n",
    "  \n",
    "def  findElementWithPos(array, pos):\n",
    "        if len(array) < 1 or pos >= len(array):\n",
    "            return None\n",
    "        \n",
    "        #随机在数组中抽取一个元素\n",
    "        p = random.randint(0, len(array) - 1)\n",
    "        pivot = array[p]\n",
    "        \n",
    "        #遍历数组把比pivot小的值放到前面，比它大的值放到后面\n",
    "        '''\n",
    "        用两个指针，begin指向数组起始处，end指向数组末尾，如果begin比pivot小则begin加一，如果比pivot大，则将begin与end指向的值互换，然后end减1\n",
    "        当begin和end重合时，比对结束\n",
    "        '''\n",
    "        begin = 0\n",
    "        end = len(array) - 1\n",
    "        while begin != end:\n",
    "            if array[begin] >= pivot:\n",
    "                temp = array[end]\n",
    "                array[end] = array[begin]\n",
    "                array[begin] = temp \n",
    "                end -= 1\n",
    "            else:\n",
    "                begin += 1\n",
    "        \n",
    "        '''\n",
    "        在while循环中，只有array[begin] < pivot时begin才会前进一位，问题在于在最后一次循环，我们把end指向的元素和begin指向的元素交换后\n",
    "        循环就结束了，这时我们无法确保此时begin指向的元素是否大于pivot，所以循环出来后我们还要再判断一次\n",
    "        '''\n",
    "        if array[begin] < pivot:\n",
    "            begin += 1\n",
    "            \n",
    "\n",
    "        '''\n",
    "        元素排列后，begin前面元素都小于pivot,从begin开始的元素都大于等于pivot\n",
    "        '''\n",
    "        if begin == pos:\n",
    "            return pivot\n",
    "        if begin > pos:\n",
    "            return findElementWithPos(array[:begin], pos)\n",
    "        else:\n",
    "            return findElementWithPos(array[begin:], pos - begin)\n",
    "\n",
    "\n",
    "   "
   ]
  },
  {
   "cell_type": "code",
   "execution_count": 90,
   "metadata": {},
   "outputs": [
    {
     "name": "stdout",
     "output_type": "stream",
     "text": [
      "2\n"
     ]
    }
   ],
   "source": [
    "array = [1,-5,3,7,1000,2,-10] \n",
    "element = findElementWithPos(array, 3) \n",
    "print(element)   "
   ]
  },
  {
   "cell_type": "code",
   "execution_count": 93,
   "metadata": {},
   "outputs": [
    {
     "name": "stdout",
     "output_type": "stream",
     "text": [
      "mid point of array is : 10\n",
      "5 elements that are closet to mid point are:\n",
      "14 7 11 10 12 "
     ]
    }
   ],
   "source": [
    "array = [7, 14, 10, 12, 2, 11, 29, 3, 4]\n",
    "mid = findElementWithPos(array, 4)\n",
    "print(\"mid point of array is :\",mid)\n",
    "\n",
    "pairArray = []\n",
    "for i in range(len(array)):\n",
    "    p = Pair(abs(array[i] - mid), i, i)\n",
    "    pairArray.append(p)\n",
    "\n",
    "k = 5\n",
    "hps = HeapPairSort(pairArray[0:k])\n",
    "for i in range(k+1, len(pairArray)):\n",
    "    if pairArray[i].val < hps.maxmun().val:\n",
    "        hps.extractMaximun()\n",
    "        hps.insert(pairArray[i])\n",
    "\n",
    "print(\"{0} elements that are closet to mid point are:\".format(k))\n",
    "for i in range(hps.heapSize):\n",
    "    pos = hps.heapArray[i].begin \n",
    "    print(\"{0} \".format(array[pos]), end=\"\")\n"
   ]
  },
  {
   "cell_type": "code",
   "execution_count": null,
   "metadata": {
    "collapsed": true
   },
   "outputs": [],
   "source": []
  },
  {
   "cell_type": "code",
   "execution_count": null,
   "metadata": {
    "collapsed": true
   },
   "outputs": [],
   "source": []
  }
 ],
 "metadata": {
  "kernelspec": {
   "display_name": "Python 3",
   "language": "python",
   "name": "python3"
  },
  "language_info": {
   "codemirror_mode": {
    "name": "ipython",
    "version": 3
   },
   "file_extension": ".py",
   "mimetype": "text/x-python",
   "name": "python",
   "nbconvert_exporter": "python",
   "pygments_lexer": "ipython3",
   "version": "3.6.3"
  }
 },
 "nbformat": 4,
 "nbformat_minor": 2
}
