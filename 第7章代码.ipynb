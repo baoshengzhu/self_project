{
 "cells": [
  {
   "cell_type": "code",
   "execution_count": 5,
   "metadata": {
    "collapsed": true
   },
   "outputs": [],
   "source": [
    "class TreeNode:\n",
    "    def __init__(self, v):\n",
    "        self.value = v\n",
    "        self.left = self.right = None\n",
    "class TreeUtil:\n",
    "    def __init__(self):\n",
    "        self.root = None\n",
    "    \n",
    "    def addTreeNode(self, node):\n",
    "        if self.root is None:\n",
    "            self.root = node\n",
    "            return\n",
    "        \n",
    "        currentNode = self.root\n",
    "        prevNode = self.root\n",
    "        #如果节点值比当前节点小，那么近进入当前节点左子树，如果比当前节点值大，就进入它的右子树\n",
    "        while currentNode is not None:\n",
    "            prevNode = currentNode\n",
    "            if currentNode.value > node.value:\n",
    "                currentNode = currentNode.left \n",
    "            else:\n",
    "                currentNode = currentNode.right \n",
    "        if prevNode.value > node.value:\n",
    "            prevNode.left = node \n",
    "        else:\n",
    "            prevNode.right = node \n",
    "    def getTreeRoot(self):\n",
    "        return self.root \n",
    "    def getSymmetricTree(self):\n",
    "        n = TreeNode(314)\n",
    "        n.left = TreeNode(6)\n",
    "        n.left.right = TreeNode(2)\n",
    "        n.left.right.right = TreeNode(3)\n",
    "        \n",
    "        n.right = TreeNode(6)\n",
    "        n.right.left = TreeNode(2)\n",
    "        n.right.left.left = TreeNode(3)"
   ]
  },
  {
   "cell_type": "code",
   "execution_count": 2,
   "metadata": {
    "collapsed": true
   },
   "outputs": [],
   "source": [
    "class BalancedTree:\n",
    "    def __init__(self):\n",
    "        self.balanced = True\n",
    "    def isTreeBalanced(self, node):\n",
    "        self.computeTreeHeight(node)\n",
    "        return self.balanced\n",
    "    def computeTreeHeight(self, node):\n",
    "        #如果根节点为空，那么高度是0\n",
    "        if node is None:\n",
    "            return 0\n",
    "        \n",
    "        #计算当前节点的高，则先计算它左右子树的高，两者较大的加一\n",
    "        leftHeight = self.computeTreeHeight(node.left)\n",
    "        rightHeight = self.computeTreeHeight(node.right)\n",
    "        if abs(rightHeight - leftHeight) > 1:\n",
    "            self.balanced = False\n",
    "            \n",
    "        height = 0\n",
    "        if node.value == 4:\n",
    "            height = 0\n",
    "            \n",
    "        if leftHeight > rightHeight:\n",
    "            height = leftHeight\n",
    "        else:\n",
    "            height = rightHeight \n",
    "        \n",
    "        print(\"node value:{0}, left height {1}, right height {2}, height {3}\".format(node.value, leftHeight, rightHeight, height+1))\n",
    "        return height + 1"
   ]
  },
  {
   "cell_type": "code",
   "execution_count": 3,
   "metadata": {},
   "outputs": [
    {
     "name": "stdout",
     "output_type": "stream",
     "text": [
      "node value:1, left height 0, right height 0, height 1\n",
      "node value:3, left height 0, right height 0, height 1\n",
      "node value:2, left height 1, right height 1, height 2\n",
      "node value:5, left height 0, right height 0, height 1\n",
      "node value:4, left height 2, right height 1, height 3\n",
      "node value:8, left height 0, right height 0, height 1\n",
      "node value:7, left height 0, right height 1, height 2\n",
      "node value:10, left height 0, right height 0, height 1\n",
      "node value:9, left height 2, right height 1, height 3\n",
      "node value:6, left height 3, right height 3, height 4\n",
      "the binary tree is balanced\n"
     ]
    }
   ],
   "source": [
    "array = [6,4,9,2,5,7,10,1,3,8]\n",
    "util = TreeUtil()\n",
    "for node in array:\n",
    "    n = TreeNode(node)\n",
    "    util.addTreeNode(n)\n",
    "\n",
    "root = util.getTreeRoot()\n",
    "bt = BalancedTree()\n",
    "\n",
    "isBalanced = bt.isTreeBalanced(root)\n",
    "if isBalanced is True:\n",
    "    print(\"the binary tree is balanced\")\n",
    "else:\n",
    "    print(\"the binary tree is not balanced\")"
   ]
  },
  {
   "cell_type": "code",
   "execution_count": 6,
   "metadata": {
    "collapsed": true
   },
   "outputs": [],
   "source": [
    "class SymmetricTree:\n",
    "    def __init__(self, root):\n",
    "        #第一次遍历队列，加入根节点后加入左孩子和右\n",
    "        self.treeList1 = []\n",
    "        #第二层遍历队列，加入根节点后加入右孩子和左还孩子\n",
    "        self.treeList2 = []\n",
    "        self.isSymmetric = False\n",
    "        #按照两种遍历方式层级遍历二叉树\n",
    "        self.treeToList(root, self.treeList1, True)\n",
    "        self.treeToList(root, self.treeList2, False)\n",
    "        \n",
    "        #比较两个队列，看他们是否相同\n",
    "        self.isSymmetric = self.compareList(self.treeList1, self.treeList2)\n",
    "        \n",
    "    def isTreeSymmetric(self):\n",
    "        return self.isSymmetric\n",
    "    \n",
    "    def treeToList(self, root, list , isLeft):\n",
    "        '''\n",
    "        对二叉树进行层次遍历，如果isLeft为真，那么先加入左孩子再加入右孩子，如果为假，先加入右孩子再加入左孩子\n",
    "        '''\n",
    "        list.append(root)\n",
    "        pos = 0\n",
    "        while pos < len(list):\n",
    "            n = list[pos]\n",
    "            if n is not None:\n",
    "                n1 = n2 = None\n",
    "                if isLeft is True:\n",
    "                    #先加入左孩子再加入右孩子\n",
    "                    n1 = n.left\n",
    "                    n2 = n.right\n",
    "                else:\n",
    "                    #先加入右孩子再加入左孩子\n",
    "                    n1 = n.right \n",
    "                    n2 = n.left\n",
    "                list.append(n1)\n",
    "                list.append(n2)\n",
    "            pos += 1 \n",
    "                \n",
    "    def compareList(self, l1, l2):\n",
    "        #比较两个队列，看他们是否相同\n",
    "        if len(l1) != len(l2):\n",
    "            return False\n",
    "        pos = 0\n",
    "        #逐个节点进行比对\n",
    "        while pos < len(l1):\n",
    "            n1 = l1[pos]\n",
    "            n2 = l2[pos]\n",
    "            \n",
    "            if n1 is None and n2 is not  None:\n",
    "                return False\n",
    "            if n1 is not None and n2 is None:\n",
    "                return False\n",
    "            if n1 is None and n2 is None:\n",
    "                pos += 1\n",
    "                continue\n",
    "            if n1.value != n2.value:\n",
    "                return False\n",
    "            pos += 1\n",
    "        \n",
    "        return True\n"
   ]
  },
  {
   "cell_type": "code",
   "execution_count": 7,
   "metadata": {},
   "outputs": [
    {
     "name": "stdout",
     "output_type": "stream",
     "text": [
      "The given tree is symmetric\n"
     ]
    }
   ],
   "source": [
    "util = TreeUtil()\n",
    "r = util.getSymmetricTree()\n",
    "sym = SymmetricTree(r) \n",
    "t = sym.isTreeSymmetric()\n",
    "if t is True:\n",
    "    print(\"The given tree is symmetric\")\n",
    "else:\n",
    "    print(\"The given tree is not symmetric\")                           "
   ]
  },
  {
   "cell_type": "code",
   "execution_count": 10,
   "metadata": {
    "collapsed": true
   },
   "outputs": [],
   "source": [
    "class MorrisTraval:\n",
    "    def __init__(self, root):\n",
    "        self.root = root \n",
    "    def traval(self):\n",
    "        n = self.root \n",
    "        while n is not None:\n",
    "            if n.left is None:\n",
    "                #如果节点没有左孩子，那就打印自己的值\n",
    "                print(\"{0} \".format(n.value), end=\"\")\n",
    "                n = n.right \n",
    "            else:\n",
    "                #每次进入节点时都先查找其前序节点\n",
    "                pre = self.getPredecessor(n)\n",
    "                if pre.right is None:\n",
    "                    #如果前序节点的右孩子为空，那么将其指向自己，然后进入左孩子\n",
    "                    pre.right = n\n",
    "                    n = n.left \n",
    "                elif pre.right is n:\n",
    "                    #如果前序节点右孩子指针指向自己，则打印自己的值,将前序孩子节点右指针恢复为空，并进入右孩子\n",
    "                    pre.right = None\n",
    "                    print(\"{0} \".format(n.value), end=\"\")\n",
    "                    n = n.right \n",
    "    \n",
    "    def getPredecessor(self, n):\n",
    "        pre = n\n",
    "        if n.left is not None:\n",
    "            #进入左孩子，然后沿着其右孩子走到底\n",
    "            pre = pre.left \n",
    "            #如果左孩子右节点为空，那么左孩子就是前序节点\n",
    "            while pre.right is not None and pre.right is not n:\n",
    "                pre = pre.right \n",
    "        return pre "
   ]
  },
  {
   "cell_type": "code",
   "execution_count": 12,
   "metadata": {},
   "outputs": [
    {
     "name": "stdout",
     "output_type": "stream",
     "text": [
      "1 2 3 4 5 6 7 8 9 10 "
     ]
    }
   ],
   "source": [
    "nodes = [6,4,9,2,5,7,10,1,3,8]   \n",
    "util = TreeUtil()\n",
    "for n in nodes:\n",
    "    node = TreeNode(n)\n",
    "    util.addTreeNode(node)\n",
    "root = util.getTreeRoot()\n",
    "mt = MorrisTraval(root)\n",
    "mt.traval()"
   ]
  },
  {
   "cell_type": "code",
   "execution_count": 13,
   "metadata": {
    "collapsed": true
   },
   "outputs": [],
   "source": [
    "class BTreeBuilder:\n",
    "    def __init__(self, inorder, preorder):\n",
    "        self.nodeMap = {}\n",
    "        self.root = None\n",
    "        #把节点值和它在中序遍历中的位置对应起来\n",
    "        for i in range(len(inorder)):\n",
    "            self.nodeMap[inorder[i]] = i \n",
    "        self.buildTree(preorder)\n",
    "        \n",
    "    def buildTree(self, preorder):\n",
    "        if self.root is None:\n",
    "            self.root = TreeNode(preorder[0])\n",
    "        \n",
    "        for i in range(1, len(preorder)):\n",
    "            val = preorder[i]\n",
    "            current = self.root\n",
    "            while True:\n",
    "                #从中序遍历序列中判断，当前从前序遍历序列中拿出的节点在当前访问节点的左边还是右边。\n",
    "                if self.nodeMap[val] < self.nodeMap[current.value]:\n",
    "                    #节点在当前中序遍历中处于访问节点的左边,如果当前访问节点左子树不为空，则进入左子树\n",
    "                    if current.left is not None:\n",
    "                        current = current.left\n",
    "                    else:\n",
    "                        #如果访问节点左子树为空，则把从前序遍历中取得的节点作为当前节点的左孩子\n",
    "                        current.left = TreeNode(val)\n",
    "                        break\n",
    "                else:\n",
    "                    #节点在中序遍历中处于当前节点的右边\n",
    "                    if current.right is not None:\n",
    "                        #如果被访问节点右子树不为空，则进入右子树\n",
    "                        current = current.right\n",
    "                    else:\n",
    "                        #访问节点右孩子为空，于是把取出节点作为被访问节点的右孩子\n",
    "                        current.right = TreeNode(val)\n",
    "                        break\n",
    "    def getTreeRoot(self):\n",
    "        return self.root"
   ]
  },
  {
   "cell_type": "code",
   "execution_count": 15,
   "metadata": {
    "collapsed": true
   },
   "outputs": [],
   "source": [
    "def printTree(head):\n",
    "    if head is None:\n",
    "        return\n",
    "    treeNodeList = []\n",
    "    treeNodeList.append(head)\n",
    "    \n",
    "    while len(treeNodeList) > 0:\n",
    "        t = treeNodeList[0]\n",
    "        del(treeNodeList[0])\n",
    "        \n",
    "        print(\"{0} \".format(t.value), end=\"\")\n",
    "        if t.left is not None:\n",
    "            treeNodeList.append(t.left)\n",
    "        if t.right is not None:\n",
    "            treeNodeList.append(t.right)"
   ]
  },
  {
   "cell_type": "code",
   "execution_count": 16,
   "metadata": {},
   "outputs": [
    {
     "name": "stdout",
     "output_type": "stream",
     "text": [
      "6 4 9 2 5 7 10 1 3 8 "
     ]
    }
   ],
   "source": [
    "inorder = [1,2,3,4,5,6,7,8,9,10]\n",
    "preorder = [6,4,2,1,3,5,9,7,8,10]\n",
    "tb = BTreeBuilder(inorder, preorder)\n",
    "root = tb.getTreeRoot()\n",
    "printTree(root)              "
   ]
  },
  {
   "cell_type": "code",
   "execution_count": 17,
   "metadata": {
    "collapsed": true
   },
   "outputs": [],
   "source": [
    "class AntiClockWiseTraval:\n",
    "    def __init__(self, root):\n",
    "        self.root = root\n",
    "        self.nodeList = []\n",
    "        #获取左边缘节点\n",
    "        self.getLeftSizeNodes()\n",
    "        #获取底部叶子节点\n",
    "        self.getBottomSizeNodes()\n",
    "        #获取右边缘节点\n",
    "        self.getRightSizeNodes()\n",
    "    def getLeftSizeNodes(self):\n",
    "        #从根节点开始遍历左孩子，获得左边缘节点\n",
    "        node = self.root\n",
    "        while node is not None:\n",
    "            self.nodeList.append(node)\n",
    "            node = node.left\n",
    "    def inorder(self, node):\n",
    "        #通过中序遍历找到叶子节点，也就是二叉树底部边缘节点\n",
    "        if node is None:\n",
    "            return\n",
    "        self.inorder(node.left)\n",
    "        if node.left is None and node.right is None and self.nodeList[-1] is not node:\n",
    "            self.nodeList.append(node)\n",
    "            return\n",
    "        self.inorder(node.right)\n",
    "    def getBottomSizeNodes(self):\n",
    "        self.inorder(self.root)\n",
    "    def getRightSizeNodes(self):\n",
    "        #从根节点开始，通过右孩子指针获得二叉树右边缘节点\n",
    "        stack = []\n",
    "        #由于需要逆时针访问，所以要把右边缘节点压入堆栈后再弹出来\n",
    "        node = self.root.right\n",
    "        while node is not None:\n",
    "            stack.append(node)\n",
    "            node = node.right\n",
    "        \n",
    "        #把节点从堆栈弹出加入队列，这样右边缘节点在队列里才形成逆时针顺序\n",
    "        while len(stack) != 0:\n",
    "            n = stack.pop()\n",
    "            if self.nodeList[-1] is not n:\n",
    "                self.nodeList.append(n)\n",
    "    def getAntiClockWiseNodes(self):\n",
    "        return self.nodeList"
   ]
  },
  {
   "cell_type": "code",
   "execution_count": 18,
   "metadata": {},
   "outputs": [
    {
     "name": "stdout",
     "output_type": "stream",
     "text": [
      "314 6 271 28 0 17 641 257 29 278 7 "
     ]
    }
   ],
   "source": [
    "inorder = [28, 271, 0, 6, 561, 17, 3, 314, 2, 401, 641, 1, 257, 7, 278, 29]\n",
    "preorder = [314, 6, 271, 28, 0, 561, 3, 17, 7, 2, 1, 401, 641, 257, 278, 29]\n",
    "#构造示例二叉树\n",
    "treeBuilder = BTreeBuilder(inorder, preorder)\n",
    "root = treeBuilder.getTreeRoot()\n",
    "\n",
    "at = AntiClockWiseTraval(root)\n",
    "nodes = at.getAntiClockWiseNodes()\n",
    "for n in nodes:\n",
    "    print(\"{0} \".format(n.value), end=\"\") "
   ]
  },
  {
   "cell_type": "code",
   "execution_count": 19,
   "metadata": {
    "collapsed": true
   },
   "outputs": [],
   "source": [
    "class TreeNode:\n",
    "    def __init__(self, v):\n",
    "        self.value = v\n",
    "        self.left = self.right = None\n",
    "        self.parent = None\n",
    "class BTreeBuilder:\n",
    "    def __init__(self, inorder, preorder):\n",
    "        self.nodeMap = {}\n",
    "        self.root = None\n",
    "         #初始化两个指定节点\n",
    "        self.node1 = self.node2 = None\n",
    "        #把节点值和它在中序遍历中的位置对应起来\n",
    "        for i in range(len(inorder)):\n",
    "            self.nodeMap[inorder[i]] = i \n",
    "        self.buildTree(preorder)\n",
    "        \n",
    "    def buildTree(self, preorder):\n",
    "        if self.root is None:\n",
    "            self.root = TreeNode(preorder[0])\n",
    "        \n",
    "        for i in range(1, len(preorder)):\n",
    "            val = preorder[i]\n",
    "            current = self.root\n",
    "            while True:\n",
    "                #从中序遍历序列中判断，当前从前序遍历序列中拿出的节点在当前访问节点的左边还是右边。\n",
    "                if self.nodeMap[val] < self.nodeMap[current.value]:\n",
    "                    #节点在当前中序遍历中处于访问节点的左边,如果当前访问节点左子树不为空，则进入左子树\n",
    "                    if current.left is not None:\n",
    "                        current = current.left\n",
    "                    else:\n",
    "                        #如果访问节点左子树为空，则把从前序遍历中取得的节点作为当前节点的左孩子\n",
    "                        current.left = TreeNode(val)\n",
    "                        #设置父节点\n",
    "                        current.left.parent = current\n",
    "                        #标记两个给定节点\n",
    "                        if val == 401:\n",
    "                            self.node1 = current.left\n",
    "                        elif val == 29:\n",
    "                           self.node2 = current.left\n",
    "                        break\n",
    "                else:\n",
    "                    #节点在中序遍历中处于当前节点的右边\n",
    "                    if current.right is not None:\n",
    "                        #如果被访问节点右子树不为空，则进入右子树\n",
    "                        current = current.right\n",
    "                    else:\n",
    "                        #访问节点右孩子为空，于是把取出节点作为被访问节点的右孩子\n",
    "                        current.right = TreeNode(val)\n",
    "                        #设置父节点\n",
    "                        current.right.parent = current\n",
    "                        #标记两个给定节点\n",
    "                        if val == 401:\n",
    "                            self.node1 = current.right\n",
    "                        elif val == 29:\n",
    "                            self.node2 = current.right\n",
    "                        break\n",
    "    def getTreeRoot(self):\n",
    "        return self.root\n"
   ]
  },
  {
   "cell_type": "code",
   "execution_count": 21,
   "metadata": {
    "collapsed": true
   },
   "outputs": [],
   "source": [
    "class LowestCommonAncestor:\n",
    "    def __init__(self, n1, n2):\n",
    "        self.node1 = n1\n",
    "        self.node2 = n2 \n",
    "    def findNodeHeight(self, n):\n",
    "        #根据节点父指针回溯到根节点进而找到当前节点的高\n",
    "        h = 0\n",
    "        while n.parent is not None:\n",
    "            h += 1\n",
    "            n = n.parent\n",
    "        return h\n",
    "    def retrackByHeight(self, n, h):\n",
    "        #根据给定节点往上走给定高度\n",
    "        while n.parent is not None and h > 0:\n",
    "            h -= 1\n",
    "            n = n.parent \n",
    "        return n\n",
    "    def traceBack(self, n1, n2):\n",
    "        #两个节点依次往上走一步然后判断是否重合\n",
    "        while n1 is not n2:\n",
    "            if n1 is not None:\n",
    "                n1 = n1.parent \n",
    "            if n2 is not None:\n",
    "                n2 = n2.parent \n",
    "        return n1\n",
    "    def getLCA(self):\n",
    "        #先找到两个节点各自的高度，高度达的先往上走，直到两节点一样高\n",
    "        h1 = self.findNodeHeight(self.node1)\n",
    "        h2 = self.findNodeHeight(self.node2)\n",
    "        if h1 > h2:\n",
    "            self.node1 = self.retrackByHeight(self.node1, h1 - h2)\n",
    "        elif h1 < h2:\n",
    "            self.node2 = self.retrackByHeight(self.node2, h2 - h1)\n",
    "        \n",
    "        return self.traceBack(self.node1, self.node2)"
   ]
  },
  {
   "cell_type": "code",
   "execution_count": 23,
   "metadata": {},
   "outputs": [
    {
     "name": "stdout",
     "output_type": "stream",
     "text": [
      "The nearest common ancestor is : 7\n"
     ]
    }
   ],
   "source": [
    "inorder = [28, 271, 0, 6, 561, 17, 3, 314, 2, 401, 641, 1, 257, 7, 278, 29]\n",
    "preorder = [314, 6, 271, 28, 0, 561, 3, 17, 7, 2, 1, 401, 641, 257, 278, 29]\n",
    "#构造示例二叉树\n",
    "treeBuilder = BTreeBuilder(inorder, preorder)\n",
    "root = treeBuilder.getTreeRoot()\n",
    "\n",
    "lca = LowestCommonAncestor(treeBuilder.node1, treeBuilder.node2)\n",
    "print(\"The nearest common ancestor is : {0}\".format(lca.getLCA().value))"
   ]
  },
  {
   "cell_type": "code",
   "execution_count": 1,
   "metadata": {},
   "outputs": [
    {
     "ename": "TypeError",
     "evalue": "must be str, not int",
     "output_type": "error",
     "traceback": [
      "\u001b[0;31m---------------------------------------------------------------------------\u001b[0m",
      "\u001b[0;31mTypeError\u001b[0m                                 Traceback (most recent call last)",
      "\u001b[0;32m<ipython-input-1-a9000288ee3e>\u001b[0m in \u001b[0;36m<module>\u001b[0;34m()\u001b[0m\n\u001b[0;32m----> 1\u001b[0;31m \u001b[0mprint\u001b[0m\u001b[0;34m(\u001b[0m\u001b[0;34m'c'\u001b[0m\u001b[0;34m+\u001b[0m\u001b[0;36m1\u001b[0m\u001b[0;34m)\u001b[0m\u001b[0;34m\u001b[0m\u001b[0m\n\u001b[0m",
      "\u001b[0;31mTypeError\u001b[0m: must be str, not int"
     ]
    }
   ],
   "source": [
    "print('c'+1)"
   ]
  },
  {
   "cell_type": "code",
   "execution_count": 2,
   "metadata": {
    "collapsed": true
   },
   "outputs": [],
   "source": [
    "class TrieNode:\n",
    "    def  __init__(self):\n",
    "        #当前节点对应的字符串\n",
    "        self.s = \"\"\n",
    "        #用一个哈希表对应节点的26个子节点\n",
    "        self.map = {}\n",
    "        \n",
    "    def setString(self, str):\n",
    "        #设置节点对应字符串\n",
    "        self.s = str\n",
    "    def getString(self):\n",
    "        return self.s \n",
    "    def nextNode(self, b):\n",
    "        #根据字符构造当前节点的子节点\n",
    "        if self.map.get(b, None) is  None:\n",
    "            n = TrieNode()\n",
    "            self.map[b] = n \n",
    "        return self.map[b]\n",
    "    def getNode(self,b):\n",
    "        #根据字符返回当前节点对应的子节点\n",
    "        return self.map[b]\n",
    "    def getAllNextNodes(self):\n",
    "        #获得当前节点的所有子节点\n",
    "        arr = []\n",
    "        begin = ord('a')\n",
    "        end = ord('z') + 1\n",
    "        for i in range(begin, end):\n",
    "            n = self.map.get(chr(i), None)\n",
    "            if n is not None:\n",
    "                arr.append(n)\n",
    "                \n",
    "        return arr"
   ]
  },
  {
   "cell_type": "code",
   "execution_count": 3,
   "metadata": {
    "collapsed": true
   },
   "outputs": [],
   "source": [
    "class  TrieBuilder:\n",
    "    def __init__(self):\n",
    "        self.root = TrieNode()\n",
    "        self.stack = []\n",
    "    def addWord(self, s):\n",
    "        '''\n",
    "        给定字符串例如'tea'，代码先读入字符t,然后在根节点根据一个对应字符't'的子节点，然后进入子节点，读取第二个字符'e'\n",
    "        为子节点构造一个对应字符‘e'的子节点，然后再进入子节点，读取第三个字符'a'，为当前节点再构造一个对应'a'的子节点\n",
    "        '''\n",
    "        node = self.root\n",
    "        for i in range(len(s)):\n",
    "            node = node.nextNode(s[i])\n",
    "            \n",
    "        node.setString(s)\n",
    "        \n",
    "    def addNodeListToStack(self, nodes):\n",
    "        for node in nodes:\n",
    "            self.stack.append(node)\n",
    "           \n",
    "    def getAllWordsByPrefix(self, prefix):\n",
    "        '''\n",
    "        根据前缀字符串每个字符从字典树中找到对应节点，然后找到该节点下所有子节点，子节点以及子节点的子节点所对应的字符\n",
    "        都是以给定字符串为前缀的字符串\n",
    "        '''\n",
    "        node = self.root \n",
    "        #现根据前缀字符串中每个字符在字典树中找到节点\n",
    "        for i in range(len(prefix)):\n",
    "            node = node.getNode(prefix[i])\n",
    "            if node is None:\n",
    "                return None\n",
    "        \n",
    "        #获取当前节点所有子节点并加入堆栈\n",
    "        self.addNodeListToStack(node.getAllNextNodes())\n",
    "        allWords = []\n",
    "        #子节点和子节点的子节点对应的字符串都是以当前字符串为前缀\n",
    "        while len(self.stack) > 0:\n",
    "            n = self.stack.pop()\n",
    "            allWords.append(n.getString())\n",
    "            #把当前节点的所有子节点加入堆栈\n",
    "            self.addNodeListToStack(n.getAllNextNodes())\n",
    "        \n",
    "        return allWords\n"
   ]
  },
  {
   "cell_type": "code",
   "execution_count": 4,
   "metadata": {},
   "outputs": [
    {
     "name": "stdout",
     "output_type": "stream",
     "text": [
      "words with prifix of t are: \n",
      "to  ten ted tea "
     ]
    }
   ],
   "source": [
    "dictionary = [\"tea\", \"to\", \"ted\", \"ten\", \"A\", \"in\", \"inn\"]\n",
    "tb = TrieBuilder()\n",
    "for word in dictionary:\n",
    "    tb.addWord(word)\n",
    "prefixWords = tb.getAllWordsByPrefix(\"t\")\n",
    "print(\"words with prifix of t are: \")\n",
    "for word in prefixWords:\n",
    "    print(\"{0} \".format(word), end=\"\")"
   ]
  },
  {
   "cell_type": "code",
   "execution_count": null,
   "metadata": {
    "collapsed": true
   },
   "outputs": [],
   "source": []
  }
 ],
 "metadata": {
  "kernelspec": {
   "display_name": "Python 3",
   "language": "python",
   "name": "python3"
  },
  "language_info": {
   "codemirror_mode": {
    "name": "ipython",
    "version": 3
   },
   "file_extension": ".py",
   "mimetype": "text/x-python",
   "name": "python",
   "nbconvert_exporter": "python",
   "pygments_lexer": "ipython3",
   "version": "3.6.3"
  }
 },
 "nbformat": 4,
 "nbformat_minor": 2
}
