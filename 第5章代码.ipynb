{
 "cells": [
  {
   "cell_type": "code",
   "execution_count": 1,
   "metadata": {
    "collapsed": true
   },
   "outputs": [],
   "source": [
    "'''\n",
    "Node 用于表示队列中的节点，它包含两个域，val表示节点的值，next指向下一个节点\n",
    "'''\n",
    "class Node:\n",
    "    def __init__(self, val):\n",
    "        self.next = None\n",
    "        self.val = val"
   ]
  },
  {
   "cell_type": "code",
   "execution_count": 7,
   "metadata": {
    "collapsed": true
   },
   "outputs": [],
   "source": [
    "class ListUtility:\n",
    "    def __init__(self):\n",
    "        self.head = None\n",
    "        self.tail = None\n",
    "        pass\n",
    "    def createList(self,nodeNum):\n",
    "        #生成含有nodeNum个节点的列表\n",
    "        if nodeNum <= 0:\n",
    "            return None\n",
    "        head = None\n",
    "        val = 0\n",
    "        node = None\n",
    "        \n",
    "        #构造给定个节点数的队列，每个节点数值依次递增\n",
    "        while nodeNum > 0:\n",
    "            '''\n",
    "            如果head指针为空，代码先构造队列头部。如果不为空，代码构造节点对象。\n",
    "            然后用上一个节点的next指针指向当前节点，从而将多个节点串联形成队列。\n",
    "            '''\n",
    "            if  head is None:\n",
    "                head = Node(val)\n",
    "                node = head\n",
    "            else:\n",
    "                node.next = Node(val)\n",
    "                node = node.next\n",
    "                self.tail = node\n",
    "            val += 1\n",
    "            nodeNum -= 1\n",
    "            \n",
    "        self.head = head\n",
    "        \n",
    "        return head\n",
    "    \n",
    "    def printList(self,head):\n",
    "        '''\n",
    "        根据队列头结点，依次遍历队列每个节点对象，并打印出节点值\n",
    "        假设队列含有三个节点，节点值分别为1，2，3，那么代码输出结果为：\n",
    "        1->2->3->null\n",
    "        '''\n",
    "        while head is not None:\n",
    "            print(\"{0}->\".format(head.val), end=\"\")\n",
    "            head = head.next\n",
    "        print(\"null\")\n",
    "    \n",
    "        "
   ]
  },
  {
   "cell_type": "code",
   "execution_count": 8,
   "metadata": {
    "collapsed": true
   },
   "outputs": [],
   "source": [
    "class ListReverse:\n",
    "    def __init__(self, head):\n",
    "        self.listHead = head\n",
    "        self.newHead = None\n",
    "    def recursiveReverse(self, node):\n",
    "        #如果队列为空或者只有一个节点，那么队列已经倒转完成\n",
    "        if node is None or node.next is None:\n",
    "            self.newHead = node\n",
    "            return node\n",
    "        '''\n",
    "        如果队列包含多个节点，那么通过递归调用的方式，先把当前节点之后所有节点实现倒转，\n",
    "        然后再把当前节点之后节点的next指针指向自己从而完成整个列表所有节点的导致\n",
    "        '''\n",
    "        head = self.recursiveReverse(node.next)\n",
    "        head.next = node\n",
    "        node.next = None\n",
    "        return node\n",
    "    def getReverseList(self):\n",
    "        '''\n",
    "        listHead是原队列头节点，执行recursiveReverse后newHead指向新列表的头结点，它\n",
    "        对应的其实是原列表的尾节点，而head指向新列表的尾节点\n",
    "        '''\n",
    "        self.recursiveReverse(self.listHead)\n",
    "        return self.newHead"
   ]
  },
  {
   "cell_type": "code",
   "execution_count": 9,
   "metadata": {},
   "outputs": [
    {
     "name": "stdout",
     "output_type": "stream",
     "text": [
      "0->1->2->3->4->5->6->7->8->9->null\n",
      "9->8->7->6->5->4->3->2->1->0->null\n"
     ]
    }
   ],
   "source": [
    "utility = ListUtility()\n",
    "head = utility.createList(10)\n",
    "utility.printList(head)\n",
    "#执行倒转算法，然后再次打印队列，前后对比看看导致是否成功\n",
    "reverse = ListReverse(head)\n",
    "utility.printList(reverse.getReverseList())"
   ]
  },
  {
   "cell_type": "code",
   "execution_count": 45,
   "metadata": {
    "collapsed": true
   },
   "outputs": [],
   "source": [
    "'''\n",
    "Node 用于表示队列中的节点，它包含两个域，val表示节点的值，next指向下一个节点\n",
    "'''\n",
    "class Node:\n",
    "    def __init__(self, val):\n",
    "        self.next = None\n",
    "        self.val = val\n",
    "        #为了打印循环链表，我们给节点加上标志位\n",
    "        self.visited = False\n",
    "class ListUtility:\n",
    "    def __init__(self):\n",
    "        self.head = None\n",
    "        self.tail = None\n",
    "        pass\n",
    "    def createList(self,nodeNum):\n",
    "        #生成含有nodeNum个节点的列表\n",
    "        if nodeNum <= 0:\n",
    "            return None\n",
    "        head = None\n",
    "        val = 0\n",
    "        node = None\n",
    "        \n",
    "        #构造给定个节点数的队列，每个节点数值依次递增\n",
    "        while nodeNum > 0:\n",
    "            '''\n",
    "            如果head指针为空，代码先构造队列头部。如果不为空，代码构造节点对象。\n",
    "            然后用上一个节点的next指针指向当前节点，从而将多个节点串联形成队列。\n",
    "            '''\n",
    "            if  head is None:\n",
    "                head = Node(val)\n",
    "                node = head\n",
    "            else:\n",
    "                node.next = Node(val)\n",
    "                node = node.next\n",
    "                self.tail = node\n",
    "            val += 1\n",
    "            nodeNum -= 1\n",
    "            \n",
    "        self.head = head\n",
    "        \n",
    "        return head\n",
    "    \n",
    "    def printList(self,head):\n",
    "        '''\n",
    "        根据队列头结点，依次遍历队列每个节点对象，并打印出节点值\n",
    "        假设队列含有三个节点，节点值分别为1，2，3，那么代码输出结果为：\n",
    "        1->2->3->null\n",
    "        '''\n",
    "        while head is not None and head.visited is False:\n",
    "            print(\"{0}->\".format(head.val), end=\"\")\n",
    "            head.visited = True\n",
    "            head = head.next\n",
    "        print(\"null\")\n",
    "    def createCircleList(self, totalNodeNum, circleNodeNum):\n",
    "        if totalNodeNum < circleNodeNum:\n",
    "            return None\n",
    "        '''\n",
    "        创建总长度为totoalNodeNum的队列，并把其中circleNodeNum个节点构造成一个环\n",
    "        '''\n",
    "        head = self.createList(totalNodeNum)\n",
    "        temp = head\n",
    "        stepCount = totalNodeNum - circleNodeNum\n",
    "        \n",
    "        while stepCount > 0:\n",
    "            temp = temp.next\n",
    "            stepCount -= 1\n",
    "        \n",
    "        #将队列末尾元素的next指向队列中某个节点就能形成环\n",
    "        self.tail.next = temp\n",
    "        print(\"circle begin with node: {0}\".format(temp.val))\n",
    "        return head\n",
    "\n",
    "    def getNodeByIdx(self, num):\n",
    "        node = self.head\n",
    "        while num > 0:\n",
    "            if node is not None:\n",
    "                node = node.next\n",
    "            num -= 1\n",
    "            \n",
    "        return node"
   ]
  },
  {
   "cell_type": "code",
   "execution_count": 35,
   "metadata": {
    "collapsed": true
   },
   "outputs": [],
   "source": [
    "class  CircleList:\n",
    "    def __init__(self):\n",
    "        #对应每次遍历一个节点的指针\n",
    "        self.stepOne = None\n",
    "        #对应每次遍历两个节点的指针\n",
    "        self.stepTwo = None\n",
    "        self.visitCount = 0\n",
    "        self.lenOfFirstVisit = 0\n",
    "        self.lenOfSecondVisit = 0\n",
    "        self.stepCount = 0\n",
    "        \n",
    "    def getCircleLength(self, head):\n",
    "        self.stepOne = head\n",
    "        self.stepTwo = head\n",
    "        \n",
    "        while self.visitCount < 2:\n",
    "            #让两指针分别前进\n",
    "            if self.goOneStep() is False or self.goTwoStep() is False:\n",
    "                break\n",
    "            self.stepCount += 1\n",
    "            #记录两指针相遇时前进的步数\n",
    "            if self.stepOne == self.stepTwo:\n",
    "                self.visitCount += 1\n",
    "                if self.visitCount == 1:\n",
    "                      self.lenOfFirstVisit = self.stepCount\n",
    "                if self.visitCount == 2:\n",
    "                      self.lenOfSecondVisit = self.stepCount\n",
    "          \n",
    "        \n",
    "        return self.lenOfSecondVisit - self.lenOfFirstVisit\n",
    "    def goOneStep(self):\n",
    "        if self.stepOne is None or self.stepOne.next is None:\n",
    "            return False\n",
    "        self.stepOne = self.stepOne.next\n",
    "        return True\n",
    "    def goTwoStep(self):\n",
    "        if self.stepTwo is None or self.stepTwo.next is None or self.stepTwo.next.next is None:\n",
    "            return False\n",
    "        self.stepTwo = self.stepTwo.next.next\n",
    "        return True\n"
   ]
  },
  {
   "cell_type": "code",
   "execution_count": 36,
   "metadata": {},
   "outputs": [
    {
     "name": "stdout",
     "output_type": "stream",
     "text": [
      "circle begin with node: 4\n",
      "0->1->2->3->4->5->6->7->8->9->null\n",
      "len of circle len is : 6\n"
     ]
    }
   ],
   "source": [
    "util = ListUtility()\n",
    "head = util.createCircleList(10, 6)\n",
    "util.printList(head)\n",
    "cl = CircleList()\n",
    "lens = cl.getCircleLength(head)\n",
    "print(\"len of circle len is : {0}\".format(lens))"
   ]
  },
  {
   "cell_type": "code",
   "execution_count": 41,
   "metadata": {
    "collapsed": true
   },
   "outputs": [],
   "source": [
    "def deleteNode(node):\n",
    "    if node.next is None:\n",
    "        return\n",
    "    #把下一个节点的值拷贝到当前节点\n",
    "    node.val = node.next.val\n",
    "    #把当前节点的next指针指向下下个节点\n",
    "    node.next = node.next.next\n",
    "def showList(head):\n",
    "    while head is not None:\n",
    "        print(\"{0}->\".format(head.val), end=\"\")\n",
    "        head = head.next\n",
    "    print(\"null\")"
   ]
  },
  {
   "cell_type": "code",
   "execution_count": 44,
   "metadata": {},
   "outputs": [
    {
     "name": "stdout",
     "output_type": "stream",
     "text": [
      "List before node deletetion:\n",
      "0->1->2->3->4->5->6->7->8->9->null\n",
      "List after node deletion:\n",
      "0->1->3->4->5->6->7->8->9->null\n"
     ]
    }
   ],
   "source": [
    "util = ListUtility()\n",
    "head = util.createList(10)\n",
    "print(\"List before node deletetion:\")\n",
    "showList(head)\n",
    "\n",
    "#假设我们要删除数值为2的节点，先从头结点遍历得到该节点\n",
    "nodeDelete = 2\n",
    "node = head\n",
    "while nodeDelete > 0:\n",
    "    node = node.next\n",
    "    nodeDelete -= 1\n",
    "#调用deleteNode删除给定节点\n",
    "deleteNode(node)\n",
    "print(\"List after node deletion:\")\n",
    "util.printList(head)"
   ]
  },
  {
   "cell_type": "code",
   "execution_count": 46,
   "metadata": {
    "collapsed": true
   },
   "outputs": [],
   "source": [
    "class ListIntersetFinder:\n",
    "    def __init__(self, listHead1, listHead2):\n",
    "        #记录队列1和对了2的头节点\n",
    "        self.listHead1 = listHead1\n",
    "        self.listHead2 = listHead2\n",
    "        # t1 + t2\n",
    "        self.firstListLen = self.getListLen(self.listHead1)\n",
    "        #t3 + t2\n",
    "        self.secondListLen = self.getListLen(self.listHead2) \n",
    "        #t1 + t3\n",
    "        self.lenAfterReverse = 0\n",
    "        \n",
    "    def getFirstIntersetNode(self):\n",
    "        listReverse = ListReverse(self.listHead2)\n",
    "        #先把队列2倒转\n",
    "        reverseHead = listReverse.getReverseList()\n",
    "        #倒转后，从队列1的头结点遍历直到队列2的头结点\n",
    "        self.lenAfterReverse = self.getListLen(self.listHead1)\n",
    "        t3 = ((self.lenAfterReverse - self.firstListLen) + self.secondListLen - 1) / 2\n",
    "        steps = self.secondListLen - t3 - 1\n",
    "        while steps > 0:\n",
    "            reverseHead = reverseHead.next\n",
    "            steps -= 1\n",
    "        return reverseHead\n",
    "    def getListLen(self, head):\n",
    "        len = 0\n",
    "        while head is not None:\n",
    "            head = head.next\n",
    "            len += 1\n",
    "        return len"
   ]
  },
  {
   "cell_type": "code",
   "execution_count": 47,
   "metadata": {},
   "outputs": [
    {
     "name": "stdout",
     "output_type": "stream",
     "text": [
      "The first interset node is : 4\n"
     ]
    }
   ],
   "source": [
    "util1 = ListUtility()\n",
    "util2 = ListUtility()\n",
    "\n",
    "list1 = util1.createList(9)\n",
    "list2 = util2.createList(3)\n",
    "\n",
    "#构造重叠队列\n",
    "node = util1.getNodeByIdx(4)\n",
    "tail = util2.getNodeByIdx(2)\n",
    "tail.next = node \n",
    "\n",
    "checker = ListIntersetFinder(list1, list2)\n",
    "interset = checker.getFirstIntersetNode()     \n",
    "print(\"The first interset node is : {0}\".format(interset.val))"
   ]
  },
  {
   "cell_type": "code",
   "execution_count": 64,
   "metadata": {
    "collapsed": true
   },
   "outputs": [],
   "source": [
    "class  EvenOddListSorter:\n",
    "    def __init__(self, listHead):\n",
    "        self.listHead = listHead\n",
    "    def sort(self):\n",
    "        if self.listHead is None or self.listHead.next is None:\n",
    "            return self.listHead\n",
    "        #将oddHead和evenHead分别指向首个奇数节点和偶数节点\n",
    "        evenHead = self.listHead\n",
    "        oddHead = self.listHead.next \n",
    "        oddHeadCopy = oddHead\n",
    "        evenTail = evenHead\n",
    "        \n",
    "        while evenHead is not None and oddHead is not None:\n",
    "            #把evenHead.next指向oddHead.next\n",
    "            evenTail = evenHead\n",
    "            evenHead.next = oddHead.next\n",
    "            evenHead = evenHead.next\n",
    "            #把oddHead.next指向evenHead.next\n",
    "            if evenHead is not None:\n",
    "                evenTail = evenHead\n",
    "                oddHead.next = evenHead.next\n",
    "                oddHead = oddHead.next\n",
    "        #把偶数队列和奇数队列收尾相连\n",
    "        evenTail.next = oddHeadCopy\n",
    "        return self.listHead"
   ]
  },
  {
   "cell_type": "code",
   "execution_count": 65,
   "metadata": {},
   "outputs": [
    {
     "name": "stdout",
     "output_type": "stream",
     "text": [
      "0->2->4->6->8->1->3->5->7->9->null\n"
     ]
    }
   ],
   "source": [
    "util = ListUtility()\n",
    "head = util.createList(10)\n",
    "sorter = EvenOddListSorter(head)\n",
    "head = sorter.sort()\n",
    "util.printList(head)"
   ]
  },
  {
   "cell_type": "code",
   "execution_count": 72,
   "metadata": {
    "collapsed": true
   },
   "outputs": [],
   "source": [
    "import random\n",
    "'''\n",
    "Node 用于表示队列中的节点，它包含两个域，val表示节点的值，next指向下一个节点\n",
    "'''\n",
    "class Node:\n",
    "    def __init__(self, val):\n",
    "        self.next = None\n",
    "        self.val = val\n",
    "        #为了打印循环链表，我们给节点加上标志位\n",
    "        self.visited = False\n",
    "        #增加jump指针\n",
    "        self.jump = None\n",
    "        \n",
    "#增加构造Posting 列表的代码\n",
    "class ListUtility:\n",
    "    def __init__(self):\n",
    "        self.head = None\n",
    "        self.tail = None\n",
    "        self.map = {}\n",
    "        pass\n",
    "    def createList(self,nodeNum):\n",
    "        #生成含有nodeNum个节点的列表\n",
    "        if nodeNum <= 0:\n",
    "            return None\n",
    "        self.listLength = nodeNum\n",
    "        \n",
    "        head = None\n",
    "        val = 0\n",
    "        node = None\n",
    "        \n",
    "        #构造给定个节点数的队列，每个节点数值依次递增\n",
    "        while nodeNum > 0:\n",
    "            '''\n",
    "            如果head指针为空，代码先构造队列头部。如果不为空，代码构造节点对象。\n",
    "            然后用上一个节点的next指针指向当前节点，从而将多个节点串联形成队列。\n",
    "            '''\n",
    "            if  head is None:\n",
    "                head = Node(val)\n",
    "                node = head\n",
    "            else:\n",
    "                node.next = Node(val)\n",
    "                node = node.next\n",
    "                self.tail = node\n",
    "            #将节点值与节点对象对应在map里，为后续设置jump指针做准备\n",
    "            self.map[val] = node\n",
    "            val += 1\n",
    "            nodeNum -= 1\n",
    "            \n",
    "        self.head = head\n",
    "        \n",
    "        return head\n",
    "    def createJumpNode(self, head):\n",
    "        '''\n",
    "        把节点的jump指针随机的指向队列中其他节点\n",
    "        '''\n",
    "        while head is not None:\n",
    "            n = random.randint(0, self.listLength - 1)\n",
    "            head.jump = self.map[n]\n",
    "            head = head.next\n",
    "            \n",
    "    def printPostingList(self, head):\n",
    "        while head is not None:\n",
    "            print(\"(node val: {0} jump val: {1}) -> \".format(head.val, head.jump.val), end=\"\")\n",
    "            head = head.next\n",
    "        print(\"null\")\n",
    "    \n",
    "    def printList(self,head):\n",
    "        '''\n",
    "        根据队列头结点，依次遍历队列每个节点对象，并打印出节点值\n",
    "        假设队列含有三个节点，节点值分别为1，2，3，那么代码输出结果为：\n",
    "        1->2->3->null\n",
    "        '''\n",
    "        while head is not None and head.visited is False:\n",
    "            print(\"{0}->\".format(head.val), end=\"\")\n",
    "            head.visited = True\n",
    "            head = head.next\n",
    "        print(\"null\")\n",
    "    def createCircleList(self, totalNodeNum, circleNodeNum):\n",
    "        if totalNodeNum < circleNodeNum:\n",
    "            return None\n",
    "        '''\n",
    "        创建总长度为totoalNodeNum的队列，并把其中circleNodeNum个节点构造成一个环\n",
    "        '''\n",
    "        head = self.createList(totalNodeNum)\n",
    "        temp = head\n",
    "        stepCount = totalNodeNum - circleNodeNum\n",
    "        \n",
    "        while stepCount > 0:\n",
    "            temp = temp.next\n",
    "            stepCount -= 1\n",
    "        \n",
    "        #将队列末尾元素的next指向队列中某个节点就能形成环\n",
    "        self.tail.next = temp\n",
    "        print(\"circle begin with node: {0}\".format(temp.val))\n",
    "        return head\n",
    "\n",
    "    def getNodeByIdx(self, num):\n",
    "        node = self.head\n",
    "        while num > 0:\n",
    "            if node is not None:\n",
    "                node = node.next\n",
    "            num -= 1\n",
    "            \n",
    "        return node\n",
    "    "
   ]
  },
  {
   "cell_type": "code",
   "execution_count": 74,
   "metadata": {},
   "outputs": [
    {
     "name": "stdout",
     "output_type": "stream",
     "text": [
      "(node val: 0 jump val: 0) -> (node val: 1 jump val: 9) -> (node val: 2 jump val: 6) -> (node val: 3 jump val: 5) -> (node val: 4 jump val: 9) -> (node val: 5 jump val: 1) -> (node val: 6 jump val: 5) -> (node val: 7 jump val: 0) -> (node val: 8 jump val: 4) -> (node val: 9 jump val: 2) -> null\n"
     ]
    }
   ],
   "source": [
    "util = ListUtility()\n",
    "head = util.createList(10)\n",
    "util.createJumpNode(head)\n",
    "util.printPostingList(head)"
   ]
  },
  {
   "cell_type": "code",
   "execution_count": 75,
   "metadata": {
    "collapsed": true
   },
   "outputs": [],
   "source": [
    "class  PostingListCopy:\n",
    "    def __init__(self, head):\n",
    "        self.originalHead = head\n",
    "        self.copyHead = None\n",
    "    def copyPostingList(self):\n",
    "        self.createPostingNodes()\n",
    "        self.createJumpNodes()\n",
    "        self.adjustNextPointer()\n",
    "        return self.copyHead\n",
    "    \n",
    "    def createPostingNodes(self):\n",
    "           node = None\n",
    "           tempHead = self.originalHead\n",
    "           #先逐个拷贝元对了的每个节点\n",
    "           while tempHead is not None:\n",
    "               node = Node(tempHead.val)\n",
    "               #把拷贝节点的next指针指向原节点next指针指向的节点\n",
    "               node.next = tempHead.next\n",
    "               #把原节点的next指向拷贝节点\n",
    "               tempHead.next = node\n",
    "               #当前节点通过拷贝节点的next进入其下一个节点\n",
    "               tempHead = node.next\n",
    "    def createJumpNodes(self):\n",
    "        temp = self.originalHead\n",
    "        #指向拷贝队列的头结点\n",
    "        self.copyHead = temp.next\n",
    "        while temp is not None:\n",
    "            cpNode = temp.next\n",
    "            #temp.jump对应的是原节点jump指针执行的对象，jump.next指向原节点jump指针指向对象的拷贝\n",
    "            cpNode.jump = temp.jump.next\n",
    "            #通过拷贝节点的next指针进入原节点后面的节点\n",
    "            temp = cpNode.next\n",
    "    def adjustNextPointer(self):\n",
    "        #恢复原队列节点的next指针\n",
    "        temp = self.originalHead\n",
    "        while temp is not None:\n",
    "            #通过原节点的next指针获得拷贝节点\n",
    "            cpNode = temp.next     \n",
    "            #拷贝节点的next指向原节点的next  \n",
    "            temp.next = cpNode.next\n",
    "            temp = temp.next\n",
    "            if temp is not None:\n",
    "                cpNode = temp.next\n",
    "            else:\n",
    "                cpNode.next = None\n"
   ]
  },
  {
   "cell_type": "code",
   "execution_count": 76,
   "metadata": {},
   "outputs": [
    {
     "name": "stdout",
     "output_type": "stream",
     "text": [
      "print copied posting list:\n",
      "(node val: 0 jump val: 0) -> (node val: 1 jump val: 9) -> (node val: 2 jump val: 6) -> (node val: 3 jump val: 5) -> (node val: 4 jump val: 9) -> (node val: 5 jump val: 1) -> (node val: 6 jump val: 5) -> (node val: 7 jump val: 0) -> (node val: 8 jump val: 4) -> (node val: 9 jump val: 2) -> null\n"
     ]
    }
   ],
   "source": [
    "pc = PostingListCopy(head)\n",
    "copyHead = pc.copyPostingList()\n",
    "print(\"print copied posting list:\")\n",
    "util.printPostingList(copyHead)\n"
   ]
  },
  {
   "cell_type": "code",
   "execution_count": 77,
   "metadata": {
    "collapsed": true
   },
   "outputs": [],
   "source": [
    "class TreeNode:\n",
    "    def __init__(self, val):\n",
    "        self.val = val\n",
    "        self.left = None\n",
    "        self.right = None\n",
    "class TreeUtility:\n",
    "    def __init__(self):\n",
    "        self.treeHead = None\n",
    "    def createTree(self):\n",
    "        vals = [5,7,3,1,2,6,8,4,9,0]\n",
    "        for val in vals:\n",
    "            self.insertTreeNode(val)\n",
    "        return self.treeHead\n",
    "    def insertTreeNode(self, val):\n",
    "        if self.treeHead is None:\n",
    "            self.treeHead = TreeNode(val)\n",
    "            return\n",
    "        \n",
    "        node = self.treeHead\n",
    "        while node is not None:\n",
    "            #如果插入节点小于当前节点，那么将其作为加入左子树\n",
    "            if node.val > val and node.left is not None:\n",
    "                node = node.left\n",
    "                continue\n",
    "            #如果加入节点的值大于当前节点，将其加入右子树\n",
    "            if node.val <= val and node.right is not None:\n",
    "                node = node.right\n",
    "                continue\n",
    "            \n",
    "            temp = TreeNode(val)\n",
    "            if node.val > val:\n",
    "                node.left = temp\n",
    "                break\n",
    "            else:\n",
    "                node.right = temp \n",
    "                break "
   ]
  },
  {
   "cell_type": "code",
   "execution_count": 78,
   "metadata": {},
   "outputs": [
    {
     "name": "stdout",
     "output_type": "stream",
     "text": [
      "5 3 7 1 4 6 8 0 2 9 "
     ]
    }
   ],
   "source": [
    "def printTree(head):\n",
    "    if head is None:\n",
    "        return\n",
    "    treeNodeList = []\n",
    "    treeNodeList.append(head)\n",
    "    \n",
    "    while len(treeNodeList) > 0:\n",
    "        t = treeNodeList[0]\n",
    "        del(treeNodeList[0])\n",
    "        \n",
    "        print(\"{0} \".format(t.val), end=\"\")\n",
    "        if t.left is not None:\n",
    "            treeNodeList.append(t.left)\n",
    "        if t.right is not None:\n",
    "            treeNodeList.append(t.right)\n",
    "            \n",
    "tree = TreeUtility()\n",
    "head = tree.createTree()\n",
    "printTree(head)"
   ]
  },
  {
   "cell_type": "code",
   "execution_count": null,
   "metadata": {
    "collapsed": true
   },
   "outputs": [],
   "source": []
  }
 ],
 "metadata": {
  "kernelspec": {
   "display_name": "Python 3",
   "language": "python",
   "name": "python3"
  },
  "language_info": {
   "codemirror_mode": {
    "name": "ipython",
    "version": 3
   },
   "file_extension": ".py",
   "mimetype": "text/x-python",
   "name": "python",
   "nbconvert_exporter": "python",
   "pygments_lexer": "ipython3",
   "version": "3.6.3"
  }
 },
 "nbformat": 4,
 "nbformat_minor": 2
}
